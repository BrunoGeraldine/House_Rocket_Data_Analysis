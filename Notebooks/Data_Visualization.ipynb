{
 "cells": [
  {
   "cell_type": "markdown",
   "id": "127bf1b3",
   "metadata": {},
   "source": [
    "# Aula 01 - Resolução das PErguntas de Negocio.\n",
    "\n",
    "## 1.1 Novas perguntas do CEO:\n",
    "1. Quantas casas estão disponíveis para compra?\n",
    "2. Quantos atributos as casas possuem?\n",
    "3. Quais são os atributos das casas?\n",
    "4. Qual a casa mais cara ( casa com o maior valor de venda )?\n",
    "5. Qual a casa com o maior número de quartos?\n",
    "6. Qual a soma total de quartos do conjunto de dados?\n",
    "7. Quantas casas possuem 2 banheiros?\n",
    "8. Qual o preço médio de todas as casas no conjunto de dados?\n",
    "9. Qual o preço médio de casas com 2 banheiros?\n",
    "10. Qual o preço mínimo entre as casas com 3 quartos?\n",
    "11. Quantas casas possuem mais de 300 metros quadrados na sala de estar?\n",
    "12. Quantas casas tem mais de 2 andares?\n",
    "13. Quantas casas tem vista para o mar?\n",
    "14. Das casas com vista para o mar, quantas tem 3 quartos?\n",
    "15. Das casas com mais de 300 metros quadrados de sala de estar, quantas tem mais de 2 banheiros?"
   ]
  },
  {
   "cell_type": "code",
   "execution_count": 88,
   "id": "3a366ded",
   "metadata": {},
   "outputs": [],
   "source": [
    "# Import LIbraries\n",
    "\n",
    "import pandas as pd\n",
    "import numpy as np"
   ]
  },
  {
   "cell_type": "markdown",
   "id": "2cf3c052",
   "metadata": {},
   "source": [
    "### Loading Data"
   ]
  },
  {
   "cell_type": "code",
   "execution_count": 7,
   "id": "b999b2cb",
   "metadata": {},
   "outputs": [],
   "source": [
    "data = pd.read_csv( 'datasets/kc_house_data.csv' )"
   ]
  },
  {
   "cell_type": "code",
   "execution_count": 8,
   "id": "1cdc2b36",
   "metadata": {},
   "outputs": [
    {
     "data": {
      "text/html": [
       "<div>\n",
       "<style scoped>\n",
       "    .dataframe tbody tr th:only-of-type {\n",
       "        vertical-align: middle;\n",
       "    }\n",
       "\n",
       "    .dataframe tbody tr th {\n",
       "        vertical-align: top;\n",
       "    }\n",
       "\n",
       "    .dataframe thead th {\n",
       "        text-align: right;\n",
       "    }\n",
       "</style>\n",
       "<table border=\"1\" class=\"dataframe\">\n",
       "  <thead>\n",
       "    <tr style=\"text-align: right;\">\n",
       "      <th></th>\n",
       "      <th>id</th>\n",
       "      <th>date</th>\n",
       "      <th>price</th>\n",
       "      <th>bedrooms</th>\n",
       "      <th>bathrooms</th>\n",
       "      <th>sqft_living</th>\n",
       "      <th>sqft_lot</th>\n",
       "      <th>floors</th>\n",
       "      <th>waterfront</th>\n",
       "      <th>view</th>\n",
       "      <th>...</th>\n",
       "      <th>grade</th>\n",
       "      <th>sqft_above</th>\n",
       "      <th>sqft_basement</th>\n",
       "      <th>yr_built</th>\n",
       "      <th>yr_renovated</th>\n",
       "      <th>zipcode</th>\n",
       "      <th>lat</th>\n",
       "      <th>long</th>\n",
       "      <th>sqft_living15</th>\n",
       "      <th>sqft_lot15</th>\n",
       "    </tr>\n",
       "  </thead>\n",
       "  <tbody>\n",
       "    <tr>\n",
       "      <th>0</th>\n",
       "      <td>7129300520</td>\n",
       "      <td>20141013T000000</td>\n",
       "      <td>221900.0</td>\n",
       "      <td>3</td>\n",
       "      <td>1.00</td>\n",
       "      <td>1180</td>\n",
       "      <td>5650</td>\n",
       "      <td>1.0</td>\n",
       "      <td>0</td>\n",
       "      <td>0</td>\n",
       "      <td>...</td>\n",
       "      <td>7</td>\n",
       "      <td>1180</td>\n",
       "      <td>0</td>\n",
       "      <td>1955</td>\n",
       "      <td>0</td>\n",
       "      <td>98178</td>\n",
       "      <td>47.5112</td>\n",
       "      <td>-122.257</td>\n",
       "      <td>1340</td>\n",
       "      <td>5650</td>\n",
       "    </tr>\n",
       "    <tr>\n",
       "      <th>1</th>\n",
       "      <td>6414100192</td>\n",
       "      <td>20141209T000000</td>\n",
       "      <td>538000.0</td>\n",
       "      <td>3</td>\n",
       "      <td>2.25</td>\n",
       "      <td>2570</td>\n",
       "      <td>7242</td>\n",
       "      <td>2.0</td>\n",
       "      <td>0</td>\n",
       "      <td>0</td>\n",
       "      <td>...</td>\n",
       "      <td>7</td>\n",
       "      <td>2170</td>\n",
       "      <td>400</td>\n",
       "      <td>1951</td>\n",
       "      <td>1991</td>\n",
       "      <td>98125</td>\n",
       "      <td>47.7210</td>\n",
       "      <td>-122.319</td>\n",
       "      <td>1690</td>\n",
       "      <td>7639</td>\n",
       "    </tr>\n",
       "    <tr>\n",
       "      <th>2</th>\n",
       "      <td>5631500400</td>\n",
       "      <td>20150225T000000</td>\n",
       "      <td>180000.0</td>\n",
       "      <td>2</td>\n",
       "      <td>1.00</td>\n",
       "      <td>770</td>\n",
       "      <td>10000</td>\n",
       "      <td>1.0</td>\n",
       "      <td>0</td>\n",
       "      <td>0</td>\n",
       "      <td>...</td>\n",
       "      <td>6</td>\n",
       "      <td>770</td>\n",
       "      <td>0</td>\n",
       "      <td>1933</td>\n",
       "      <td>0</td>\n",
       "      <td>98028</td>\n",
       "      <td>47.7379</td>\n",
       "      <td>-122.233</td>\n",
       "      <td>2720</td>\n",
       "      <td>8062</td>\n",
       "    </tr>\n",
       "    <tr>\n",
       "      <th>3</th>\n",
       "      <td>2487200875</td>\n",
       "      <td>20141209T000000</td>\n",
       "      <td>604000.0</td>\n",
       "      <td>4</td>\n",
       "      <td>3.00</td>\n",
       "      <td>1960</td>\n",
       "      <td>5000</td>\n",
       "      <td>1.0</td>\n",
       "      <td>0</td>\n",
       "      <td>0</td>\n",
       "      <td>...</td>\n",
       "      <td>7</td>\n",
       "      <td>1050</td>\n",
       "      <td>910</td>\n",
       "      <td>1965</td>\n",
       "      <td>0</td>\n",
       "      <td>98136</td>\n",
       "      <td>47.5208</td>\n",
       "      <td>-122.393</td>\n",
       "      <td>1360</td>\n",
       "      <td>5000</td>\n",
       "    </tr>\n",
       "    <tr>\n",
       "      <th>4</th>\n",
       "      <td>1954400510</td>\n",
       "      <td>20150218T000000</td>\n",
       "      <td>510000.0</td>\n",
       "      <td>3</td>\n",
       "      <td>2.00</td>\n",
       "      <td>1680</td>\n",
       "      <td>8080</td>\n",
       "      <td>1.0</td>\n",
       "      <td>0</td>\n",
       "      <td>0</td>\n",
       "      <td>...</td>\n",
       "      <td>8</td>\n",
       "      <td>1680</td>\n",
       "      <td>0</td>\n",
       "      <td>1987</td>\n",
       "      <td>0</td>\n",
       "      <td>98074</td>\n",
       "      <td>47.6168</td>\n",
       "      <td>-122.045</td>\n",
       "      <td>1800</td>\n",
       "      <td>7503</td>\n",
       "    </tr>\n",
       "  </tbody>\n",
       "</table>\n",
       "<p>5 rows × 21 columns</p>\n",
       "</div>"
      ],
      "text/plain": [
       "           id             date     price  bedrooms  bathrooms  sqft_living  \\\n",
       "0  7129300520  20141013T000000  221900.0         3       1.00         1180   \n",
       "1  6414100192  20141209T000000  538000.0         3       2.25         2570   \n",
       "2  5631500400  20150225T000000  180000.0         2       1.00          770   \n",
       "3  2487200875  20141209T000000  604000.0         4       3.00         1960   \n",
       "4  1954400510  20150218T000000  510000.0         3       2.00         1680   \n",
       "\n",
       "   sqft_lot  floors  waterfront  view  ...  grade  sqft_above  sqft_basement  \\\n",
       "0      5650     1.0           0     0  ...      7        1180              0   \n",
       "1      7242     2.0           0     0  ...      7        2170            400   \n",
       "2     10000     1.0           0     0  ...      6         770              0   \n",
       "3      5000     1.0           0     0  ...      7        1050            910   \n",
       "4      8080     1.0           0     0  ...      8        1680              0   \n",
       "\n",
       "   yr_built  yr_renovated  zipcode      lat     long  sqft_living15  \\\n",
       "0      1955             0    98178  47.5112 -122.257           1340   \n",
       "1      1951          1991    98125  47.7210 -122.319           1690   \n",
       "2      1933             0    98028  47.7379 -122.233           2720   \n",
       "3      1965             0    98136  47.5208 -122.393           1360   \n",
       "4      1987             0    98074  47.6168 -122.045           1800   \n",
       "\n",
       "   sqft_lot15  \n",
       "0        5650  \n",
       "1        7639  \n",
       "2        8062  \n",
       "3        5000  \n",
       "4        7503  \n",
       "\n",
       "[5 rows x 21 columns]"
      ]
     },
     "execution_count": 8,
     "metadata": {},
     "output_type": "execute_result"
    }
   ],
   "source": [
    "# Ploting data\n",
    "data.head()"
   ]
  },
  {
   "cell_type": "markdown",
   "id": "92134509",
   "metadata": {},
   "source": [
    "## 1. How many homes are available for purchase?"
   ]
  },
  {
   "cell_type": "code",
   "execution_count": 27,
   "id": "0281e5dc",
   "metadata": {},
   "outputs": [
    {
     "name": "stdout",
     "output_type": "stream",
     "text": [
      "The number of avaible houses are 21436\n"
     ]
    }
   ],
   "source": [
    "# Counting number of lines the same number of houses\n",
    "# len(data['id'].unique())\n",
    "# Or using .drop function (remove od duplicados e conta novamente)\n",
    "# Estrategy:\n",
    "# 1. Select \"id\" column;\n",
    "# 2. Remov repeated value;\n",
    "# 3. Count the number of unique values.\n",
    "houses = len(data['id'].drop_duplicates())\n",
    "print('The number of avaible houses are {}'.format(houses))"
   ]
  },
  {
   "cell_type": "markdown",
   "id": "5ae07161",
   "metadata": {},
   "source": [
    "## 2. How many attributes do houses have?"
   ]
  },
  {
   "cell_type": "code",
   "execution_count": 32,
   "id": "d3936ca9",
   "metadata": {},
   "outputs": [
    {
     "name": "stdout",
     "output_type": "stream",
     "text": [
      "The houses have 19 attributes\n"
     ]
    }
   ],
   "source": [
    "# Estrategy:\n",
    "# 1. Count the number os columns;\n",
    "# 2. Remove values \"id\", \"date\" (they are not attributes):\n",
    "attributes = len(data.drop(['id', 'date'], axis = 1).columns)\n",
    "print('The houses have {} attributes'.format(attributes))"
   ]
  },
  {
   "cell_type": "markdown",
   "id": "b6c6bd45",
   "metadata": {},
   "source": [
    "## 3. What are the attributes of houses?"
   ]
  },
  {
   "cell_type": "code",
   "execution_count": 37,
   "id": "71a11778",
   "metadata": {
    "scrolled": true
   },
   "outputs": [
    {
     "name": "stdout",
     "output_type": "stream",
     "text": [
      "The attributes are: Index(['price', 'bedrooms', 'bathrooms', 'sqft_living', 'sqft_lot', 'floors',\n",
      "       'waterfront', 'view', 'condition', 'grade', 'sqft_above',\n",
      "       'sqft_basement', 'yr_built', 'yr_renovated', 'zipcode', 'lat', 'long',\n",
      "       'sqft_living15', 'sqft_lot15'],\n",
      "      dtype='object')\n"
     ]
    }
   ],
   "source": [
    "## Estrategy:\n",
    "# 1. Plot the columns.\n",
    "attributes2 = data.drop(['id', 'date'], axis=1).columns\n",
    "print('The attributes are: {}'.format(attributes2))"
   ]
  },
  {
   "cell_type": "markdown",
   "id": "71feb06f",
   "metadata": {},
   "source": [
    "## 4. What is the most expensive house (house with the highest sale price)?"
   ]
  },
  {
   "cell_type": "code",
   "execution_count": 69,
   "id": "4f4efdf6",
   "metadata": {},
   "outputs": [
    {
     "name": "stdout",
     "output_type": "stream",
     "text": [
      "The most expensive House is: id 6762700020 price U$7700000.0\n"
     ]
    }
   ],
   "source": [
    "# Estrategy:\n",
    "# 1. Arrange the price column from highest to lowest \n",
    "# 2. Apply reset index to recount rows and ensure correct result;\n",
    "# 3. Collect the value and id from the first row.\n",
    "\n",
    "data[['id','price']].sort_values('price', ascending=False).head() # 1\n",
    "exphouse = data[['id','price']].sort_values('price', ascending=False).reset_index(drop=True)['id'][0] # 2 and 3\n",
    "highestprice = data[['id','price']].sort_values('price', ascending=False).reset_index(drop=True)['price'][0]\n",
    "print('The most expensive House is: id {} price U${}'.format(exphouse, highestprice))"
   ]
  },
  {
   "cell_type": "markdown",
   "id": "24bcb128",
   "metadata": {},
   "source": [
    "## 5. Which house has the most bedrooms?"
   ]
  },
  {
   "cell_type": "code",
   "execution_count": 87,
   "id": "814e96c0",
   "metadata": {},
   "outputs": [
    {
     "name": "stdout",
     "output_type": "stream",
     "text": [
      "The house with the most bedrooms is 2402100895 and have 33 bedroomns\n"
     ]
    }
   ],
   "source": [
    "# Estrategy:\n",
    "# 1. Arrange the bedroom column from highest to lowest;\n",
    "# 2. Apply reset index to recount rows and ensure correct result;\n",
    "# 3. Collect the value and id from the first row.\n",
    "data[[\"id\",\"bedrooms\"]].sort_values(\"bedrooms\", ascending=False).head() # 1\n",
    "bedroomsid = data[['id','bedrooms']].sort_values('bedrooms', ascending=False).reset_index(drop=True)['id'][0] # 2 and 3\n",
    "bedrooms1 = data[['id','bedrooms']].sort_values('bedrooms', ascending=False).reset_index(drop=True)['bedrooms'][0]\n",
    "print('The house with the most bedrooms is {} and have {} bedroomns'.format(bedroomsid, bedrooms1))"
   ]
  },
  {
   "cell_type": "markdown",
   "id": "cfedf2db",
   "metadata": {},
   "source": [
    "# 6. What is the sum total of bedrooms in the dataset?"
   ]
  },
  {
   "cell_type": "code",
   "execution_count": 73,
   "id": "0c24a1bf",
   "metadata": {},
   "outputs": [
    {
     "name": "stdout",
     "output_type": "stream",
     "text": [
      "There are a total of 72854 bedrooms\n"
     ]
    }
   ],
   "source": [
    "# Estrategy:\n",
    "# 1. Filter the columns \"bedrooms\" and sum this value.\n",
    "bedroomsnumber = data['bedrooms'].sum()\n",
    "print('There are a total of {} bedrooms'.format(bedroomsnumber))"
   ]
  },
  {
   "cell_type": "markdown",
   "id": "974b3a61",
   "metadata": {},
   "source": [
    "# 7. Quantas casas possuem 2 banheiros?"
   ]
  },
  {
   "cell_type": "code",
   "execution_count": 173,
   "id": "88535e77",
   "metadata": {},
   "outputs": [
    {
     "name": "stdout",
     "output_type": "stream",
     "text": [
      "There are a total of (1930, 23) bethrooms\n"
     ]
    }
   ],
   "source": [
    "# Estrategy:\n",
    "# 1. Find the number of houses whit 2 bathrooms; \n",
    "# 2. Select columns \"id\" and \"bathroom\";\n",
    "# 3. Sum the number of houses.\n",
    "data.loc[data['bathrooms'] == 2, ['id', 'bathrooms']] # 1\n",
    "bethroomsum = data.loc[data['bathrooms'] == 2, ['id', 'bathrooms']].shape # 2 and 3\n",
    "print('There are a total of {} bethrooms'.format(bethroomsum))"
   ]
  },
  {
   "cell_type": "markdown",
   "id": "4f698df6",
   "metadata": {},
   "source": [
    "# 8. What is the average price of all houses in the dataset?"
   ]
  },
  {
   "cell_type": "code",
   "execution_count": 90,
   "id": "021f92ac",
   "metadata": {},
   "outputs": [
    {
     "name": "stdout",
     "output_type": "stream",
     "text": [
      "The average price of the houses is: U$540088.14\n"
     ]
    }
   ],
   "source": [
    "# Estrategy:\n",
    "# 1. Find the average price of houses.\n",
    "# Ps.: Use numpy's round() function to select only 2 number after point.\n",
    "averageprice = np.round(data['price'].mean(), 2)\n",
    "print('The average price of the houses is: U${}'.format(averageprice ))"
   ]
  },
  {
   "cell_type": "code",
   "execution_count": 91,
   "id": "d8e5dcdb",
   "metadata": {},
   "outputs": [
    {
     "data": {
      "text/plain": [
       "id                 int64\n",
       "date              object\n",
       "price            float64\n",
       "bedrooms           int64\n",
       "bathrooms        float64\n",
       "sqft_living        int64\n",
       "sqft_lot           int64\n",
       "floors           float64\n",
       "waterfront         int64\n",
       "view               int64\n",
       "condition          int64\n",
       "grade              int64\n",
       "sqft_above         int64\n",
       "sqft_basement      int64\n",
       "yr_built           int64\n",
       "yr_renovated       int64\n",
       "zipcode            int64\n",
       "lat              float64\n",
       "long             float64\n",
       "sqft_living15      int64\n",
       "sqft_lot15         int64\n",
       "dtype: object"
      ]
     },
     "execution_count": 91,
     "metadata": {},
     "output_type": "execute_result"
    }
   ],
   "source": [
    "# the function data.dtypes show us what types variables we have.\n",
    "data.dtypes"
   ]
  },
  {
   "cell_type": "markdown",
   "id": "4f1fe326",
   "metadata": {},
   "source": [
    "# 9. What is the average price only houses whit 2 bathroom?"
   ]
  },
  {
   "cell_type": "code",
   "execution_count": 93,
   "id": "f3cffb87",
   "metadata": {},
   "outputs": [
    {
     "name": "stdout",
     "output_type": "stream",
     "text": [
      "The average price for houses whit 2 bathrooms is U$457889.72\n"
     ]
    }
   ],
   "source": [
    "# Estrategy:\n",
    "# 1. Find only the average price of houses whit 2 bathroms.\n",
    "avg_bath = np.round(data.loc[data['bathrooms'] == 2, 'price'].mean(), 2)\n",
    "print('The average price for houses whit 2 bathrooms is U${}'.format(avg_bath))"
   ]
  },
  {
   "cell_type": "markdown",
   "id": "cfca826c",
   "metadata": {},
   "source": [
    "# 10. What is the minimum price between 3 bedroom homes?"
   ]
  },
  {
   "cell_type": "code",
   "execution_count": 98,
   "id": "25dd71f2",
   "metadata": {},
   "outputs": [
    {
     "name": "stdout",
     "output_type": "stream",
     "text": [
      "The minimum price for houses whit 3 bedrooms is U$82000.0\n"
     ]
    }
   ],
   "source": [
    "# Estrategy:\n",
    "# 1. Select only 3 bedroom house and arrange ascending by price\n",
    "min_price_bed = data.loc[data['bedrooms'] == 3, 'price'].min(),\n",
    "print('The minimum price for houses whit 3 bedrooms is U${}'.format(min_pricebed))"
   ]
  },
  {
   "cell_type": "markdown",
   "id": "56b2bce7",
   "metadata": {},
   "source": [
    "# 11. How many homes have more than 300 square meters in the living room?"
   ]
  },
  {
   "cell_type": "code",
   "execution_count": 161,
   "id": "b589850d",
   "metadata": {},
   "outputs": [
    {
     "name": "stdout",
     "output_type": "stream",
     "text": [
      "There are 2258 houses whit mor than 300ft² in the living room.\n"
     ]
    }
   ],
   "source": [
    "# Estrategy:\n",
    "# 1. Select only houses whit mor than 300ft² of living room and read the number of lines.\n",
    "data['m2'] = data['sqft_living'] * 0.093\n",
    "sqft_300 = len(data.loc[data['m2'] > 300, 'id'])\n",
    "print('There are {} houses whit mor than 300ft² in the living room.'.format(sqft_300))"
   ]
  },
  {
   "cell_type": "markdown",
   "id": "5e31a808",
   "metadata": {},
   "source": [
    "#### Se quiser fazer a converção de ft² para m² basta usar o seguinte raciocionio: (1 ft² = 0.093 m²)\n",
    "#### data['m²']=data['sqft_living'] * 0.093 - (aqui substituimos a variavel sqft_living pela m² ja convertendo o valor)\n",
    "#### len(data.loc[data['m²'] > 300, 'id'])"
   ]
  },
  {
   "cell_type": "markdown",
   "id": "c40c035a",
   "metadata": {},
   "source": [
    "# 12. How many homes have more than 2 floors?"
   ]
  },
  {
   "cell_type": "code",
   "execution_count": 114,
   "id": "170c8f0f",
   "metadata": {},
   "outputs": [
    {
     "name": "stdout",
     "output_type": "stream",
     "text": [
      "There are 782 houses whit mor than 2 floors.\n"
     ]
    }
   ],
   "source": [
    "# Estrategy:\n",
    "# 1. Select only houses whit mor than 300ft² of living room and read the number of lines.\n",
    "floor_2 = data.loc[data['floors'] > 2, 'id'].size\n",
    "print('There are {} houses whit mor than 2 floors.'.format(floor_2))"
   ]
  },
  {
   "cell_type": "markdown",
   "id": "b70559d9",
   "metadata": {},
   "source": [
    "# 13. How many houses have a waterfront view?"
   ]
  },
  {
   "cell_type": "code",
   "execution_count": 111,
   "id": "acdc3e06",
   "metadata": {},
   "outputs": [
    {
     "name": "stdout",
     "output_type": "stream",
     "text": [
      "There are 163 houses whit waterfront view.\n"
     ]
    }
   ],
   "source": [
    "# Estrategy:\n",
    "# 1. Select only houses whit waterfront view and read the number of lines.\n",
    "waterfront_view = len(data.loc[data['waterfront'] != 0, 'id'])\n",
    "print('There are {} houses whit waterfront view.'.format(waterfront_view))"
   ]
  },
  {
   "cell_type": "markdown",
   "id": "b7f0bd63",
   "metadata": {},
   "source": [
    "# 14. Of the houses with a waterfront view, how many have 3 bedrooms?"
   ]
  },
  {
   "cell_type": "code",
   "execution_count": 124,
   "id": "e5f42f8e",
   "metadata": {},
   "outputs": [
    {
     "name": "stdout",
     "output_type": "stream",
     "text": [
      "Of the houses whit waterfront, 64 houses have 3 bedrooms.\n"
     ]
    }
   ],
   "source": [
    "# Estrategy:\n",
    "# 1. Select only houses whit waterfront view and read how many have 3 bedrooms.\n",
    "data.columns\n",
    "waterfront_bed = data.loc[(data['waterfront'] != 0) & (data['bedrooms'] == 3), \"id\"].size\n",
    "print('Of the houses whit waterfront, {} houses have 3 bedrooms.'.format(waterfront_bed))"
   ]
  },
  {
   "cell_type": "markdown",
   "id": "afad6d86",
   "metadata": {},
   "source": [
    "# 15. Of the houses with more than 300 square meters of living room, how many have more than 2 bathrooms?"
   ]
  },
  {
   "cell_type": "code",
   "execution_count": 190,
   "id": "9935643c",
   "metadata": {},
   "outputs": [
    {
     "name": "stdout",
     "output_type": "stream",
     "text": [
      "Of the houses whit 300 square meters of living room, 2201 houses have 2 bathrooms.\n"
     ]
    }
   ],
   "source": [
    "# Estrategy:\n",
    "# 1. Select only houses whit mor than 300m² of livingo room and mor than 2 bedrooms.\n",
    "house_300m_2bat = data[(data['m2']>300) & (data['bathrooms']>2)].shape[0]\n",
    "print('Of the houses whit 300 square meters of living room, {} houses have 2 bathrooms.'.format(house_300m_2bat))"
   ]
  }
 ],
 "metadata": {
  "kernelspec": {
   "display_name": "Python 3 (ipykernel)",
   "language": "python",
   "name": "python3"
  },
  "language_info": {
   "codemirror_mode": {
    "name": "ipython",
    "version": 3
   },
   "file_extension": ".py",
   "mimetype": "text/x-python",
   "name": "python",
   "nbconvert_exporter": "python",
   "pygments_lexer": "ipython3",
   "version": "3.8.10"
  }
 },
 "nbformat": 4,
 "nbformat_minor": 5
}
