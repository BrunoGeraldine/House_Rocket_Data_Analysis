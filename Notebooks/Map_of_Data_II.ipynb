{
 "cells": [
  {
   "cell_type": "markdown",
   "id": "5f38c4b3",
   "metadata": {},
   "source": [
    "# New Questions\n",
    "\n",
    "#### 1. What is the average purchase price of properties by “Level”? \n",
    "    • Level 0 -> Price between U$ 0 and U$ 321,950 \n",
    "    • Level 1 -> Price between U$ 321,950 and U$ 450,000 \n",
    "    • Level 2 -> Price between U$ 450,000 and U$ 645,000 \n",
    "    • Level 3 -> Above U$ 645,000\n",
    "#### 2. What is the average size of the living room of the properties by “Size”? \n",
    "    • Size 0 -> Size between 0 and 1427 sqft \n",
    "    • Size 1 -> Size between 1427 and 1910 sqft \n",
    "    • Size 2 -> Size between 1910 and 2550 sqft \n",
    "    • Size 3 -> Size over 2550 sqft\n",
    "#### 3. Add the following information to the original dataset: \n",
    "    • Place ID: location \n",
    "    • OSM Type: Open Street Map type \n",
    "    • Country: Country Name \n",
    "    • Country Code: Country code\n",
    "#### 4. Add the following filters to the Map: \n",
    "    • Minimum living room area size. \n",
    "    • Number minimum of bathrooms. \n",
    "    • Maximum Price Value. \n",
    "    • Maximum size of the basement area. \n",
    "    • Property Conditions Filter. \n",
    "    • Filter by Year of Construction.\n",
    "#### 5. Add the following filters to the Dashboard: \n",
    "    • Filter by date available for purchase. \n",
    "    • Filter per year of renewal. \n",
    "    • Filter whether it has a water view or not."
   ]
  },
  {
   "cell_type": "markdown",
   "id": "1e7d5cb4",
   "metadata": {
    "heading_collapsed": true
   },
   "source": [
    "## Import LIbraries"
   ]
  },
  {
   "cell_type": "code",
   "execution_count": 56,
   "id": "a69e035c",
   "metadata": {
    "hidden": true
   },
   "outputs": [],
   "source": [
    "import defs\n",
    "import time\n",
    "import numpy as np\n",
    "import pandas as pd\n",
    "\n",
    "import seaborn        as sns\n",
    "import ipywidgets     as widgets\n",
    "import plotly.express as px\n",
    "\n",
    "from ipywidgets           import interact, interactive, fixed, interact_manual\n",
    "from matplotlib           import gridspec\n",
    "from matplotlib           import pyplot as plt\n",
    "from multiprocessing      import Pool\n",
    "from geopy.geocoders      import Nominatim\n",
    "from IPython.core.display import HTML\n",
    "\n",
    "\n",
    "\n"
   ]
  },
  {
   "cell_type": "code",
   "execution_count": 59,
   "id": "40ace182",
   "metadata": {
    "hidden": true
   },
   "outputs": [
    {
     "name": "stdout",
     "output_type": "stream",
     "text": [
      "Populating the interactive namespace from numpy and matplotlib\n"
     ]
    },
    {
     "data": {
      "text/html": [
       "<style>.container { width:100% !important; }</style>"
      ],
      "text/plain": [
       "<IPython.core.display.HTML object>"
      ]
     },
     "metadata": {},
     "output_type": "display_data"
    }
   ],
   "source": [
    "# Function for format all over the graphics\n",
    "def jupyter_settings():\n",
    "    %matplotlib inline\n",
    "    %pylab inline\n",
    "    plt.style.use( 'bmh' )\n",
    "    plt.rcParams['figure.figsize'] = [14, 7]\n",
    "    plt.rcParams['font.size'] = 24\n",
    "    display( HTML( '<style>.container { width:100% !important; }</style>') )\n",
    "    pd.options.display.max_columns = None\n",
    "    pd.options.display.max_rows = None\n",
    "    pd.set_option( 'display.expand_frame_repr', False )\n",
    "    sns.set()\n",
    "jupyter_settings()"
   ]
  },
  {
   "cell_type": "markdown",
   "id": "d3b54fc6",
   "metadata": {
    "ExecuteTime": {
     "end_time": "2021-11-15T13:59:51.581615Z",
     "start_time": "2021-11-15T13:59:51.575747Z"
    },
    "heading_collapsed": true
   },
   "source": [
    "## Loading data"
   ]
  },
  {
   "cell_type": "code",
   "execution_count": 60,
   "id": "578aa612",
   "metadata": {
    "hidden": true
   },
   "outputs": [
    {
     "data": {
      "text/html": [
       "<div>\n",
       "<style scoped>\n",
       "    .dataframe tbody tr th:only-of-type {\n",
       "        vertical-align: middle;\n",
       "    }\n",
       "\n",
       "    .dataframe tbody tr th {\n",
       "        vertical-align: top;\n",
       "    }\n",
       "\n",
       "    .dataframe thead th {\n",
       "        text-align: right;\n",
       "    }\n",
       "</style>\n",
       "<table border=\"1\" class=\"dataframe\">\n",
       "  <thead>\n",
       "    <tr style=\"text-align: right;\">\n",
       "      <th></th>\n",
       "      <th>id</th>\n",
       "      <th>date</th>\n",
       "      <th>price</th>\n",
       "      <th>bedrooms</th>\n",
       "      <th>bathrooms</th>\n",
       "      <th>sqft_living</th>\n",
       "      <th>sqft_lot</th>\n",
       "      <th>floors</th>\n",
       "      <th>waterfront</th>\n",
       "      <th>view</th>\n",
       "      <th>condition</th>\n",
       "      <th>grade</th>\n",
       "      <th>sqft_above</th>\n",
       "      <th>sqft_basement</th>\n",
       "      <th>yr_built</th>\n",
       "      <th>yr_renovated</th>\n",
       "      <th>zipcode</th>\n",
       "      <th>lat</th>\n",
       "      <th>long</th>\n",
       "      <th>sqft_living15</th>\n",
       "      <th>sqft_lot15</th>\n",
       "    </tr>\n",
       "  </thead>\n",
       "  <tbody>\n",
       "    <tr>\n",
       "      <th>0</th>\n",
       "      <td>7129300520</td>\n",
       "      <td>20141013T000000</td>\n",
       "      <td>221900.0</td>\n",
       "      <td>3</td>\n",
       "      <td>1.00</td>\n",
       "      <td>1180</td>\n",
       "      <td>5650</td>\n",
       "      <td>1.0</td>\n",
       "      <td>0</td>\n",
       "      <td>0</td>\n",
       "      <td>3</td>\n",
       "      <td>7</td>\n",
       "      <td>1180</td>\n",
       "      <td>0</td>\n",
       "      <td>1955</td>\n",
       "      <td>0</td>\n",
       "      <td>98178</td>\n",
       "      <td>47.5112</td>\n",
       "      <td>-122.257</td>\n",
       "      <td>1340</td>\n",
       "      <td>5650</td>\n",
       "    </tr>\n",
       "    <tr>\n",
       "      <th>1</th>\n",
       "      <td>6414100192</td>\n",
       "      <td>20141209T000000</td>\n",
       "      <td>538000.0</td>\n",
       "      <td>3</td>\n",
       "      <td>2.25</td>\n",
       "      <td>2570</td>\n",
       "      <td>7242</td>\n",
       "      <td>2.0</td>\n",
       "      <td>0</td>\n",
       "      <td>0</td>\n",
       "      <td>3</td>\n",
       "      <td>7</td>\n",
       "      <td>2170</td>\n",
       "      <td>400</td>\n",
       "      <td>1951</td>\n",
       "      <td>1991</td>\n",
       "      <td>98125</td>\n",
       "      <td>47.7210</td>\n",
       "      <td>-122.319</td>\n",
       "      <td>1690</td>\n",
       "      <td>7639</td>\n",
       "    </tr>\n",
       "    <tr>\n",
       "      <th>2</th>\n",
       "      <td>5631500400</td>\n",
       "      <td>20150225T000000</td>\n",
       "      <td>180000.0</td>\n",
       "      <td>2</td>\n",
       "      <td>1.00</td>\n",
       "      <td>770</td>\n",
       "      <td>10000</td>\n",
       "      <td>1.0</td>\n",
       "      <td>0</td>\n",
       "      <td>0</td>\n",
       "      <td>3</td>\n",
       "      <td>6</td>\n",
       "      <td>770</td>\n",
       "      <td>0</td>\n",
       "      <td>1933</td>\n",
       "      <td>0</td>\n",
       "      <td>98028</td>\n",
       "      <td>47.7379</td>\n",
       "      <td>-122.233</td>\n",
       "      <td>2720</td>\n",
       "      <td>8062</td>\n",
       "    </tr>\n",
       "    <tr>\n",
       "      <th>3</th>\n",
       "      <td>2487200875</td>\n",
       "      <td>20141209T000000</td>\n",
       "      <td>604000.0</td>\n",
       "      <td>4</td>\n",
       "      <td>3.00</td>\n",
       "      <td>1960</td>\n",
       "      <td>5000</td>\n",
       "      <td>1.0</td>\n",
       "      <td>0</td>\n",
       "      <td>0</td>\n",
       "      <td>5</td>\n",
       "      <td>7</td>\n",
       "      <td>1050</td>\n",
       "      <td>910</td>\n",
       "      <td>1965</td>\n",
       "      <td>0</td>\n",
       "      <td>98136</td>\n",
       "      <td>47.5208</td>\n",
       "      <td>-122.393</td>\n",
       "      <td>1360</td>\n",
       "      <td>5000</td>\n",
       "    </tr>\n",
       "    <tr>\n",
       "      <th>4</th>\n",
       "      <td>1954400510</td>\n",
       "      <td>20150218T000000</td>\n",
       "      <td>510000.0</td>\n",
       "      <td>3</td>\n",
       "      <td>2.00</td>\n",
       "      <td>1680</td>\n",
       "      <td>8080</td>\n",
       "      <td>1.0</td>\n",
       "      <td>0</td>\n",
       "      <td>0</td>\n",
       "      <td>3</td>\n",
       "      <td>8</td>\n",
       "      <td>1680</td>\n",
       "      <td>0</td>\n",
       "      <td>1987</td>\n",
       "      <td>0</td>\n",
       "      <td>98074</td>\n",
       "      <td>47.6168</td>\n",
       "      <td>-122.045</td>\n",
       "      <td>1800</td>\n",
       "      <td>7503</td>\n",
       "    </tr>\n",
       "  </tbody>\n",
       "</table>\n",
       "</div>"
      ],
      "text/plain": [
       "           id             date     price  bedrooms  bathrooms  sqft_living  sqft_lot  floors  waterfront  view  condition  grade  sqft_above  sqft_basement  yr_built  yr_renovated  zipcode      lat     long  sqft_living15  sqft_lot15\n",
       "0  7129300520  20141013T000000  221900.0         3       1.00         1180      5650     1.0           0     0          3      7        1180              0      1955             0    98178  47.5112 -122.257           1340        5650\n",
       "1  6414100192  20141209T000000  538000.0         3       2.25         2570      7242     2.0           0     0          3      7        2170            400      1951          1991    98125  47.7210 -122.319           1690        7639\n",
       "2  5631500400  20150225T000000  180000.0         2       1.00          770     10000     1.0           0     0          3      6         770              0      1933             0    98028  47.7379 -122.233           2720        8062\n",
       "3  2487200875  20141209T000000  604000.0         4       3.00         1960      5000     1.0           0     0          5      7        1050            910      1965             0    98136  47.5208 -122.393           1360        5000\n",
       "4  1954400510  20150218T000000  510000.0         3       2.00         1680      8080     1.0           0     0          3      8        1680              0      1987             0    98074  47.6168 -122.045           1800        7503"
      ]
     },
     "execution_count": 60,
     "metadata": {},
     "output_type": "execute_result"
    }
   ],
   "source": [
    "data = pd.read_csv('datasets/kc_house_data.csv')\n",
    "data.head()"
   ]
  },
  {
   "cell_type": "markdown",
   "id": "69345237",
   "metadata": {
    "heading_collapsed": true
   },
   "source": [
    "## 1. What is the average purchase price of properties by “Level”?\n",
    "    • Level 0 -> Price between U$ 0 and U$ 321,950 \n",
    "    • Level 1 -> Price between U$ 321,950 and U$ 450,000 \n",
    "    • Level 2 -> Price between U$ 450,000 and U$ 645,000 \n",
    "    • Level 3 -> Above U$ 645,000\n"
   ]
  },
  {
   "cell_type": "code",
   "execution_count": 61,
   "id": "97f6b484",
   "metadata": {
    "hidden": true
   },
   "outputs": [
    {
     "data": {
      "text/html": [
       "<div>\n",
       "<style scoped>\n",
       "    .dataframe tbody tr th:only-of-type {\n",
       "        vertical-align: middle;\n",
       "    }\n",
       "\n",
       "    .dataframe tbody tr th {\n",
       "        vertical-align: top;\n",
       "    }\n",
       "\n",
       "    .dataframe thead th {\n",
       "        text-align: right;\n",
       "    }\n",
       "</style>\n",
       "<table border=\"1\" class=\"dataframe\">\n",
       "  <thead>\n",
       "    <tr style=\"text-align: right;\">\n",
       "      <th></th>\n",
       "      <th>price</th>\n",
       "      <th>level</th>\n",
       "    </tr>\n",
       "  </thead>\n",
       "  <tbody>\n",
       "    <tr>\n",
       "      <th>0</th>\n",
       "      <td>221900.0</td>\n",
       "      <td>level_0</td>\n",
       "    </tr>\n",
       "    <tr>\n",
       "      <th>1</th>\n",
       "      <td>538000.0</td>\n",
       "      <td>level_2</td>\n",
       "    </tr>\n",
       "    <tr>\n",
       "      <th>2</th>\n",
       "      <td>180000.0</td>\n",
       "      <td>level_0</td>\n",
       "    </tr>\n",
       "    <tr>\n",
       "      <th>3</th>\n",
       "      <td>604000.0</td>\n",
       "      <td>level_2</td>\n",
       "    </tr>\n",
       "    <tr>\n",
       "      <th>4</th>\n",
       "      <td>510000.0</td>\n",
       "      <td>level_2</td>\n",
       "    </tr>\n",
       "  </tbody>\n",
       "</table>\n",
       "</div>"
      ],
      "text/plain": [
       "      price    level\n",
       "0  221900.0  level_0\n",
       "1  538000.0  level_2\n",
       "2  180000.0  level_0\n",
       "3  604000.0  level_2\n",
       "4  510000.0  level_2"
      ]
     },
     "execution_count": 61,
     "metadata": {},
     "output_type": "execute_result"
    }
   ],
   "source": [
    "# Creating new column \"level\" and attribuiting values to new column whit .apply comand.\n",
    "data['level'] = data['price'].apply(lambda x:   'level_0' if (x >= 0) & (x <= 321950) else\n",
    "                                                'level-1' if (x > 321950) & (x <= 450000) else \n",
    "                                                'level_2' if (x > 450000) & (x <= 645000) else 'level_3')\n",
    "data[['price', 'level']].head()"
   ]
  },
  {
   "cell_type": "markdown",
   "id": "1ad8a76b",
   "metadata": {
    "heading_collapsed": true
   },
   "source": [
    "## 2. What is the average size of the living room of the properties by “Size”?\n",
    "    • Size 0 -> Size between 0 and 1427 sqft \n",
    "    • Size 1 -> Size between 1427 and 1910 sqft \n",
    "    • Size 2 -> Size between 1910 and 2550 sqft \n",
    "    • Size 3 -> Size over 2550 sqft\n"
   ]
  },
  {
   "cell_type": "code",
   "execution_count": 62,
   "id": "5410e2ea",
   "metadata": {
    "hidden": true
   },
   "outputs": [
    {
     "data": {
      "text/html": [
       "<div>\n",
       "<style scoped>\n",
       "    .dataframe tbody tr th:only-of-type {\n",
       "        vertical-align: middle;\n",
       "    }\n",
       "\n",
       "    .dataframe tbody tr th {\n",
       "        vertical-align: top;\n",
       "    }\n",
       "\n",
       "    .dataframe thead th {\n",
       "        text-align: right;\n",
       "    }\n",
       "</style>\n",
       "<table border=\"1\" class=\"dataframe\">\n",
       "  <thead>\n",
       "    <tr style=\"text-align: right;\">\n",
       "      <th></th>\n",
       "      <th>sqft_living</th>\n",
       "      <th>size</th>\n",
       "    </tr>\n",
       "  </thead>\n",
       "  <tbody>\n",
       "    <tr>\n",
       "      <th>0</th>\n",
       "      <td>1180</td>\n",
       "      <td>size_0</td>\n",
       "    </tr>\n",
       "    <tr>\n",
       "      <th>1</th>\n",
       "      <td>2570</td>\n",
       "      <td>size_3</td>\n",
       "    </tr>\n",
       "    <tr>\n",
       "      <th>2</th>\n",
       "      <td>770</td>\n",
       "      <td>size_0</td>\n",
       "    </tr>\n",
       "    <tr>\n",
       "      <th>3</th>\n",
       "      <td>1960</td>\n",
       "      <td>size_2</td>\n",
       "    </tr>\n",
       "    <tr>\n",
       "      <th>4</th>\n",
       "      <td>1680</td>\n",
       "      <td>size_1</td>\n",
       "    </tr>\n",
       "  </tbody>\n",
       "</table>\n",
       "</div>"
      ],
      "text/plain": [
       "   sqft_living    size\n",
       "0         1180  size_0\n",
       "1         2570  size_3\n",
       "2          770  size_0\n",
       "3         1960  size_2\n",
       "4         1680  size_1"
      ]
     },
     "execution_count": 62,
     "metadata": {},
     "output_type": "execute_result"
    }
   ],
   "source": [
    "# Creating new column \"level\" and attribuiting values to new column whit .apply comand.\n",
    "data['size'] = data['sqft_living'].apply(lambda x:   'size_0' if (x >= 0) & (x <= 1427) else\n",
    "                                                'size_1' if (x > 1427) & (x <= 1910) else \n",
    "                                                'size_2' if (x > 1910) & (x <= 2550) else 'size_3')\n",
    "data[['sqft_living', 'size']].head()"
   ]
  },
  {
   "cell_type": "markdown",
   "id": "6a482c94",
   "metadata": {
    "heading_collapsed": true
   },
   "source": [
    "## 3. Add the following information to the original dataset:\n",
    "    • Place ID: location \n",
    "    • OSM Type: Open Street Map type \n",
    "    • Country: Country Name \n",
    "    • Country Code: Country code\n"
   ]
  },
  {
   "cell_type": "code",
   "execution_count": 63,
   "id": "bb110d2a",
   "metadata": {
    "hidden": true
   },
   "outputs": [],
   "source": [
    "#from geopy.geocoders import Nominatim\n",
    "\n",
    "geolocator = Nominatim( user_agent='geopyExercises')\n",
    "\n",
    "query = '47.5112, -122.257'\n",
    "response = geolocator.reverse(query)"
   ]
  },
  {
   "cell_type": "markdown",
   "id": "583e8685",
   "metadata": {
    "hidden": true
   },
   "source": [
    "##### data[['lat', 'long']].head() # Len information about \"lat\" and long\n",
    "##### response - show us information about latitud and longitud attibuited at query\n",
    "##### response.raw - plot json information\n",
    "##### response.raw[ ]\n",
    "##### response.raw['place_id'] - plot key the json file\n",
    "##### response.raw['address']['house_number'] #plot number of house"
   ]
  },
  {
   "cell_type": "code",
   "execution_count": 64,
   "id": "84ba8ef5",
   "metadata": {
    "hidden": true
   },
   "outputs": [],
   "source": [
    "# Handling .Json file whit Multi_thread process\n",
    "#import time\n",
    "#from multiprocessing import Pool"
   ]
  },
  {
   "cell_type": "code",
   "execution_count": 65,
   "id": "8a97b4cb",
   "metadata": {
    "hidden": true
   },
   "outputs": [],
   "source": [
    "data['query'] = data[['lat', 'long']].apply(lambda x: str(x['lat']) + ',' + str(x['long']), axis=1)"
   ]
  },
  {
   "cell_type": "code",
   "execution_count": 66,
   "id": "9dee66d5",
   "metadata": {
    "hidden": true
   },
   "outputs": [],
   "source": [
    "# (Api request) geolocator = Nominatim( user_agent='geopyExercises')\n",
    "\n",
    "\n",
    "#def get_data( x ):\n",
    "#    index, row = x\n",
    "#    time.sleep( 1 )\n",
    "    \n",
    "    # call the api\n",
    "#    response = geolocator.reverse(row['query'])\n",
    "    \n",
    "#    try:\n",
    "#        place_id = response.raw['place_id']\n",
    "#        osm_type = response.raw['osm_type']\n",
    "#        country = response.raw['address']['country'] # this informar are in other subpack\n",
    "#        country_code = response.raw['address']['country_code'] # necessary declare the subfolder\n",
    "#        \n",
    "#        return place_id, osm_type, country, country_code"
   ]
  },
  {
   "cell_type": "code",
   "execution_count": 67,
   "id": "bd2e6bec",
   "metadata": {
    "hidden": true
   },
   "outputs": [
    {
     "name": "stdout",
     "output_type": "stream",
     "text": [
      "Time Elapsed: {} 0.014897136000001865\n"
     ]
    }
   ],
   "source": [
    "#import defs\n",
    "# Creating dataframe only for multi_thread process\n",
    "df1 = data[['id', 'query']].head()\n",
    "\n",
    "p = Pool(3) # Select only 3 cors at the machine\n",
    "\n",
    "start = time.process_time()\n",
    "df1[['place_id','osm_type', 'country', 'country_code']] = p.map( defs.get_data, df1.iterrows() )\n",
    "end = time.process_time()\n",
    "\n",
    "print('Time Elapsed: {}', end - start)"
   ]
  },
  {
   "cell_type": "code",
   "execution_count": 68,
   "id": "8e792bfb",
   "metadata": {
    "hidden": true
   },
   "outputs": [
    {
     "data": {
      "text/html": [
       "<div>\n",
       "<style scoped>\n",
       "    .dataframe tbody tr th:only-of-type {\n",
       "        vertical-align: middle;\n",
       "    }\n",
       "\n",
       "    .dataframe tbody tr th {\n",
       "        vertical-align: top;\n",
       "    }\n",
       "\n",
       "    .dataframe thead th {\n",
       "        text-align: right;\n",
       "    }\n",
       "</style>\n",
       "<table border=\"1\" class=\"dataframe\">\n",
       "  <thead>\n",
       "    <tr style=\"text-align: right;\">\n",
       "      <th></th>\n",
       "      <th>id</th>\n",
       "      <th>query</th>\n",
       "      <th>place_id</th>\n",
       "      <th>osm_type</th>\n",
       "      <th>country</th>\n",
       "      <th>country_code</th>\n",
       "    </tr>\n",
       "  </thead>\n",
       "  <tbody>\n",
       "    <tr>\n",
       "      <th>0</th>\n",
       "      <td>7129300520</td>\n",
       "      <td>47.5112,-122.257</td>\n",
       "      <td>148421265</td>\n",
       "      <td>way</td>\n",
       "      <td>NA</td>\n",
       "      <td>NA</td>\n",
       "    </tr>\n",
       "    <tr>\n",
       "      <th>1</th>\n",
       "      <td>6414100192</td>\n",
       "      <td>47.721,-122.319</td>\n",
       "      <td>148033904</td>\n",
       "      <td>way</td>\n",
       "      <td>NA</td>\n",
       "      <td>NA</td>\n",
       "    </tr>\n",
       "    <tr>\n",
       "      <th>2</th>\n",
       "      <td>5631500400</td>\n",
       "      <td>47.7379,-122.233</td>\n",
       "      <td>76736995</td>\n",
       "      <td>node</td>\n",
       "      <td>NA</td>\n",
       "      <td>NA</td>\n",
       "    </tr>\n",
       "    <tr>\n",
       "      <th>3</th>\n",
       "      <td>2487200875</td>\n",
       "      <td>47.5208,-122.393</td>\n",
       "      <td>145042219</td>\n",
       "      <td>way</td>\n",
       "      <td>NA</td>\n",
       "      <td>NA</td>\n",
       "    </tr>\n",
       "    <tr>\n",
       "      <th>4</th>\n",
       "      <td>1954400510</td>\n",
       "      <td>47.6168,-122.045</td>\n",
       "      <td>292831047</td>\n",
       "      <td>way</td>\n",
       "      <td>NA</td>\n",
       "      <td>NA</td>\n",
       "    </tr>\n",
       "  </tbody>\n",
       "</table>\n",
       "</div>"
      ],
      "text/plain": [
       "           id             query   place_id osm_type country country_code\n",
       "0  7129300520  47.5112,-122.257  148421265      way      NA           NA\n",
       "1  6414100192   47.721,-122.319  148033904      way      NA           NA\n",
       "2  5631500400  47.7379,-122.233   76736995     node      NA           NA\n",
       "3  2487200875  47.5208,-122.393  145042219      way      NA           NA\n",
       "4  1954400510  47.6168,-122.045  292831047      way      NA           NA"
      ]
     },
     "execution_count": 68,
     "metadata": {},
     "output_type": "execute_result"
    }
   ],
   "source": [
    "df1.head()"
   ]
  },
  {
   "cell_type": "markdown",
   "id": "02251699",
   "metadata": {
    "heading_collapsed": true
   },
   "source": [
    "## 4. Add the following filters to the Map:\n",
    "    • Minimum living room area size. \n",
    "    • Number minimum of bathrooms. \n",
    "    • Maximum Price Value. \n",
    "    • Maximum size of the basement area. \n",
    "    • Property Conditions Filter. \n",
    "    • Filter by Year of Construction.\n"
   ]
  },
  {
   "cell_type": "code",
   "execution_count": 69,
   "id": "e3f5ebc8",
   "metadata": {
    "hidden": true
   },
   "outputs": [],
   "source": [
    "#import ipywidgets as widgets\n",
    "#from ipywidgets import interact, interactive, fixed, interact_manual\n",
    "#from plotly import express as px"
   ]
  },
  {
   "cell_type": "code",
   "execution_count": 70,
   "id": "6f21b320",
   "metadata": {
    "hidden": true
   },
   "outputs": [],
   "source": [
    "# First, created new column\n",
    "#data['is_waterfront'] = data['waterfront'].apply(lambda x: 'yes' if x == 1 else 'no')\n",
    "\n",
    "# Define interactive buttons\n",
    "price_limit = widgets.IntSlider(\n",
    "    value = int( data['price'].mean()),\n",
    "    min = int(data['price'].min()) ,\n",
    "    max = int(data['price'].max()) ,\n",
    "    step = 1,\n",
    "    description = 'Maximunm Price',\n",
    "    disable = False,\n",
    "    style = {'description_width': 'initial'})\n",
    "\n",
    "# Define interactive buttons\n",
    "living_limit = widgets.IntSlider(\n",
    "    value = int( data['sqft_living'].mean() ),\n",
    "    min = data['sqft_living'].min() ,\n",
    "    max = data['sqft_living'].max() ,\n",
    "    step = 1,\n",
    "    description = 'Minimum Living Room Size',\n",
    "    disable = False,\n",
    "    style = {'description_width': 'initial'})\n",
    "\n",
    "# Define interactive buttons\n",
    "bath_limit = widgets.IntSlider(\n",
    "    value = data['bathrooms'].mean() ,\n",
    "    min = data['bathrooms'].min() ,\n",
    "    max = data['bathrooms'].max() ,\n",
    "    step = 1,\n",
    "    description = 'Minimum Bathrooms Values',\n",
    "    disable = False,\n",
    "    style = {'description_width': 'initial'})\n",
    "\n",
    "# Define interactive buttons\n",
    "basement_limit = widgets.IntSlider(\n",
    "    value = int(data['sqft_basement'].mean()) ,\n",
    "    min = data['sqft_basement'].min() ,\n",
    "    max = data['sqft_basement'].max() ,\n",
    "    step = 1,\n",
    "    description = 'Maximum Basement',\n",
    "    disable = False,\n",
    "    style = {'description_width': 'initial'})\n",
    "\n",
    "# Define interactive buttons\n",
    "condition_limit = widgets.IntSlider(\n",
    "    value = data['condition'].mean() ,\n",
    "    min = data['condition'].min() ,\n",
    "    max = data['condition'].max() ,\n",
    "    step = 1,\n",
    "    description = 'House Condition',\n",
    "    disable = False,\n",
    "    style = {'description_width': 'initial'})\n",
    "\n",
    "# Define interactive buttons\n",
    "yr_limit = widgets.IntSlider(\n",
    "    value = data['yr_built'].mean() ,\n",
    "    min = data['yr_built'].min() ,\n",
    "    max = data['yr_built'].max() ,\n",
    "    step = 1,\n",
    "    description = 'Year Build Limit',\n",
    "    disable = False,\n",
    "    style = {'description_width': 'initial'})"
   ]
  },
  {
   "cell_type": "code",
   "execution_count": 71,
   "id": "400684f3",
   "metadata": {
    "hidden": true
   },
   "outputs": [],
   "source": [
    "def update_map(df, price_limit, living_limit, bath_limit, basement_limit):\n",
    "    # Filter the data\n",
    "    houses = df[(df['price'] < price_limit) &\n",
    "                (df['sqft_living'] < living_limit) & \n",
    "                (df['bathrooms'] < bath_limit) &\n",
    "                (df['sqft_basement'] < basement_limit) & \n",
    "                (df['condition'] == condition_limit ) &\n",
    "                (df['yr_built'] == yr_limit)][['id', 'lat', 'long', 'price', 'sqft_living' ]].copy()\n",
    "    \n",
    "    # Plot Map\n",
    "    fig = px.scatter_mapbox(houses,\n",
    "                            lat= 'lat',\n",
    "                            lon= 'long',\n",
    "                            size= 'price',\n",
    "                            color_continuous_scale=px.colors.cyclical.IceFire,\n",
    "                            size_max=15,\n",
    "                            zoom=10 )\n",
    "    fig.update_layout( mapbox_style='open-street-map' )\n",
    "    fig.update_layout( height=600, margin={'r':0, 'l':0, 't':0, 'b':0})\n",
    "    fig.show()"
   ]
  },
  {
   "cell_type": "code",
   "execution_count": 73,
   "id": "c4b0c27b",
   "metadata": {
    "hidden": true
   },
   "outputs": [
    {
     "data": {
      "application/vnd.jupyter.widget-view+json": {
       "model_id": "1d97fe89eadb4f4c964ae2ba8cc1f661",
       "version_major": 2,
       "version_minor": 0
      },
      "text/plain": [
       "interactive(children=(IntSlider(value=2251875, description='Maximunm Price', max=7700000, min=75000, style=Sli…"
      ]
     },
     "metadata": {},
     "output_type": "display_data"
    }
   ],
   "source": [
    "widgets.interactive( update_map, df=fixed( data ), price_limit=price_limit,\n",
    "                     living_limit=living_limit, \n",
    "                     bath_limit=bath_limit, \n",
    "                     basement_limit=basement_limit, \n",
    "                     condition_limit=condition_limit,\n",
    "                     yr_limit=yr_limit)"
   ]
  },
  {
   "cell_type": "markdown",
   "id": "54c09a5b",
   "metadata": {
    "heading_collapsed": true
   },
   "source": [
    "## 5. Add the following filters to the Dashboard: \n",
    "    • Filter by date available for purchase. \n",
    "    • Filter per year of renewal. \n",
    "    • Filter whether it has a water view or not."
   ]
  },
  {
   "cell_type": "code",
   "execution_count": 74,
   "id": "909a26ec",
   "metadata": {
    "hidden": true
   },
   "outputs": [],
   "source": [
    "#from matplotlib import pyplot as plt\n",
    "#from matplotlib import gridspec\n",
    "#import seaborn as sns"
   ]
  },
  {
   "cell_type": "code",
   "execution_count": 86,
   "id": "def0b3ed",
   "metadata": {
    "hidden": true
   },
   "outputs": [],
   "source": [
    "# First format the column\n",
    "data['year'] = pd.to_datetime( data['date'] ).dt.strftime( '%Y' )\n",
    "data['date'] = pd.to_datetime( data['date'] ).dt.strftime( '%Y-%m-%d' )\n",
    "data['year_week'] = pd.to_datetime( data['date'] ).dt.strftime( '%Y-%u')\n",
    "\n",
    "# First filter: by date available for purchase.\n",
    "date_limit = widgets.SelectionSlider( \n",
    "    options = data['date'].sort_values().unique().tolist(),\n",
    "    value='2014-12-01',\n",
    "    description='Max available date',\n",
    "    disable=False,\n",
    "    continous_update=False,\n",
    "    style={'description_width': 'initial'},\n",
    "    redout=True)\n",
    "\n",
    "# Second filter: per year of renewal.\n",
    "year_limit = widgets.SelectionSlider( \n",
    "    options = data['yr_renovated'].sort_values().unique().tolist(),\n",
    "    value=2000,\n",
    "    description='Max Year',\n",
    "    disable=False,\n",
    "    continous_update=False,\n",
    "    style={'description_width': 'initial'},\n",
    "    redout=True)\n",
    "\n",
    "# Third filter: whether it has a water view or not.\n",
    "water_limit = widgets.Checkbox(\n",
    "    value=False,\n",
    "    description='Is waterfront?',\n",
    "    disable=False,\n",
    "    indent=False)"
   ]
  },
  {
   "cell_type": "code",
   "execution_count": 107,
   "id": "ae6390c0",
   "metadata": {
    "hidden": true
   },
   "outputs": [],
   "source": [
    "def update_map( data, date_limit, year_limit, water_limit):\n",
    "    #FIltering data\n",
    "    df = data[(data['date'] <= date_limit) &\n",
    "              (data['yr_renovated'] >= year_limit) &\n",
    "              (data['waterfront'] == water_limit)]\n",
    "    \n",
    "    fig = plt.figure( figsize=(24,12))\n",
    "    specs = gridspec.GridSpec( ncols=2, nrows=2, figure=fig)\n",
    "    \n",
    "    ax1 = fig.add_subplot( specs[0, :] )\n",
    "    ax2 = fig.add_subplot( specs[1, 0] )\n",
    "    ax3 = fig.add_subplot( specs[1, 1] )\n",
    "    \n",
    "    # First graphic\n",
    "    by_year = df[['price', 'year']].groupby('year').sum().reset_index()\n",
    "    sns.barplot(x='year', y='price', data=by_year, ax=ax1);\n",
    "    \n",
    "    # Second graphic\n",
    "    by_day = df[['price', 'date']].groupby('date').mean().reset_index()\n",
    "    sns.lineplot(x='date', y='price', data=by_day, ax=ax2)\n",
    "    plt.xticks( rotation=90 );\n",
    "    \n",
    "    # Third graphic\n",
    "    by_week_of_year = df[['price', 'year_week']].groupby('year_week').mean().reset_index()\n",
    "    sns.barplot(x='year_week', y='price', data=by_week_of_year, ax=ax3)\n",
    "    plt.xticks( rotation=90 );"
   ]
  },
  {
   "cell_type": "code",
   "execution_count": 108,
   "id": "08d5d623",
   "metadata": {
    "hidden": true,
    "scrolled": false
   },
   "outputs": [
    {
     "data": {
      "application/vnd.jupyter.widget-view+json": {
       "model_id": "8da05760d0154299ab7166d93afd198f",
       "version_major": 2,
       "version_minor": 0
      },
      "text/plain": [
       "interactive(children=(SelectionSlider(description='Max available date', index=276, options=('2014-05-02', '201…"
      ]
     },
     "metadata": {},
     "output_type": "display_data"
    },
    {
     "data": {
      "image/png": "[encoded data removed]",
      "text/plain": [
       "<Figure size 1728x864 with 3 Axes>"
      ]
     },
     "metadata": {},
     "output_type": "display_data"
    }
   ],
   "source": [
    "widgets.interactive( update_map, \n",
    "                     data = fixed( data ),\n",
    "                     date_limit = date_limit,\n",
    "                     year_limit = year_limit,\n",
    "                     water_limit = water_limit)"
   ]
  },
  {
   "cell_type": "code",
   "execution_count": null,
   "id": "cab75e41",
   "metadata": {
    "hidden": true
   },
   "outputs": [],
   "source": []
  }
 ],
 "metadata": {
  "kernelspec": {
   "display_name": "Python 3 (ipykernel)",
   "language": "python",
   "name": "python3"
  },
  "language_info": {
   "codemirror_mode": {
    "name": "ipython",
    "version": 3
   },
   "file_extension": ".py",
   "mimetype": "text/x-python",
   "name": "python",
   "nbconvert_exporter": "python",
   "pygments_lexer": "ipython3",
   "version": "3.8.0"
  },
  "nbTranslate": {
   "displayLangs": [
    "*"
   ],
   "hotkey": "alt-t",
   "langInMainMenu": true,
   "sourceLang": "en",
   "targetLang": "fr",
   "useGoogleTranslate": true
  }
 },
 "nbformat": 4,
 "nbformat_minor": 5
}
