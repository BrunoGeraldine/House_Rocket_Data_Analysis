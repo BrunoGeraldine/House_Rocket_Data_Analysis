{
 "cells": [
  {
   "cell_type": "markdown",
   "id": "dbe58022",
   "metadata": {},
   "source": [
    "Resolução Das Perguntas de Negócio"
   ]
  },
  {
   "cell_type": "markdown",
   "id": "494b3de7",
   "metadata": {},
   "source": [
    "Instalando as Bibliotecas"
   ]
  },
  {
   "cell_type": "code",
   "execution_count": 1,
   "id": "7f7f5c79",
   "metadata": {},
   "outputs": [],
   "source": [
    "import numpy as np\n",
    "import pandas as pd\n",
    "import seaborn as sns\n",
    "from matplotlib import pyplot as plt\n",
    "import plotly.express as px"
   ]
  },
  {
   "cell_type": "code",
   "execution_count": 2,
   "id": "82ef364c",
   "metadata": {},
   "outputs": [],
   "source": [
    "# Supress Scientific Notation\n",
    "np.set_printoptions(suppress=True)\n",
    "pd.set_option('display.float_format', '{:.2f}'.format)"
   ]
  },
  {
   "cell_type": "markdown",
   "id": "c8cd4f80",
   "metadata": {},
   "source": [
    "Buscando o DataFrame"
   ]
  },
  {
   "cell_type": "code",
   "execution_count": 3,
   "id": "e0b741b9",
   "metadata": {},
   "outputs": [],
   "source": [
    "# loading data into memory\n",
    "data = pd.read_csv( 'datasets/kc_house_data.csv' )\n",
    "# Garantir que o formato date seja um datetime\n",
    "data['date'] = pd.to_datetime( data['date'], format='%Y-%m-%d' )"
   ]
  },
  {
   "cell_type": "markdown",
   "id": "d55cce01",
   "metadata": {},
   "source": [
    "# 1 - Criando uma nova coluna chamada: “house_age”\n",
    "- Se o valor da coluna “date” for maior que 2014-01-01 => ‘new_house’\n",
    "- Se o valor da coluna “date” for menor que 2014-01-01 => ‘old_house’"
   ]
  },
  {
   "cell_type": "code",
   "execution_count": 4,
   "id": "6afe3d66",
   "metadata": {},
   "outputs": [
    {
     "data": {
      "text/html": [
       "<div>\n",
       "<style scoped>\n",
       "    .dataframe tbody tr th:only-of-type {\n",
       "        vertical-align: middle;\n",
       "    }\n",
       "\n",
       "    .dataframe tbody tr th {\n",
       "        vertical-align: top;\n",
       "    }\n",
       "\n",
       "    .dataframe thead th {\n",
       "        text-align: right;\n",
       "    }\n",
       "</style>\n",
       "<table border=\"1\" class=\"dataframe\">\n",
       "  <thead>\n",
       "    <tr style=\"text-align: right;\">\n",
       "      <th></th>\n",
       "      <th>id</th>\n",
       "      <th>date</th>\n",
       "      <th>price</th>\n",
       "      <th>bedrooms</th>\n",
       "      <th>bathrooms</th>\n",
       "      <th>sqft_living</th>\n",
       "      <th>sqft_lot</th>\n",
       "      <th>floors</th>\n",
       "      <th>waterfront</th>\n",
       "      <th>view</th>\n",
       "      <th>...</th>\n",
       "      <th>sqft_above</th>\n",
       "      <th>sqft_basement</th>\n",
       "      <th>yr_built</th>\n",
       "      <th>yr_renovated</th>\n",
       "      <th>zipcode</th>\n",
       "      <th>lat</th>\n",
       "      <th>long</th>\n",
       "      <th>sqft_living15</th>\n",
       "      <th>sqft_lot15</th>\n",
       "      <th>house_age</th>\n",
       "    </tr>\n",
       "  </thead>\n",
       "  <tbody>\n",
       "    <tr>\n",
       "      <th>0</th>\n",
       "      <td>7129300520</td>\n",
       "      <td>2014-10-13</td>\n",
       "      <td>221900.00</td>\n",
       "      <td>3</td>\n",
       "      <td>1.00</td>\n",
       "      <td>1180</td>\n",
       "      <td>5650</td>\n",
       "      <td>1.00</td>\n",
       "      <td>0</td>\n",
       "      <td>0</td>\n",
       "      <td>...</td>\n",
       "      <td>1180</td>\n",
       "      <td>0</td>\n",
       "      <td>1955</td>\n",
       "      <td>0</td>\n",
       "      <td>98178</td>\n",
       "      <td>47.51</td>\n",
       "      <td>-122.26</td>\n",
       "      <td>1340</td>\n",
       "      <td>5650</td>\n",
       "      <td>new_house</td>\n",
       "    </tr>\n",
       "    <tr>\n",
       "      <th>1</th>\n",
       "      <td>6414100192</td>\n",
       "      <td>2014-12-09</td>\n",
       "      <td>538000.00</td>\n",
       "      <td>3</td>\n",
       "      <td>2.25</td>\n",
       "      <td>2570</td>\n",
       "      <td>7242</td>\n",
       "      <td>2.00</td>\n",
       "      <td>0</td>\n",
       "      <td>0</td>\n",
       "      <td>...</td>\n",
       "      <td>2170</td>\n",
       "      <td>400</td>\n",
       "      <td>1951</td>\n",
       "      <td>1991</td>\n",
       "      <td>98125</td>\n",
       "      <td>47.72</td>\n",
       "      <td>-122.32</td>\n",
       "      <td>1690</td>\n",
       "      <td>7639</td>\n",
       "      <td>new_house</td>\n",
       "    </tr>\n",
       "    <tr>\n",
       "      <th>2</th>\n",
       "      <td>5631500400</td>\n",
       "      <td>2015-02-25</td>\n",
       "      <td>180000.00</td>\n",
       "      <td>2</td>\n",
       "      <td>1.00</td>\n",
       "      <td>770</td>\n",
       "      <td>10000</td>\n",
       "      <td>1.00</td>\n",
       "      <td>0</td>\n",
       "      <td>0</td>\n",
       "      <td>...</td>\n",
       "      <td>770</td>\n",
       "      <td>0</td>\n",
       "      <td>1933</td>\n",
       "      <td>0</td>\n",
       "      <td>98028</td>\n",
       "      <td>47.74</td>\n",
       "      <td>-122.23</td>\n",
       "      <td>2720</td>\n",
       "      <td>8062</td>\n",
       "      <td>new_house</td>\n",
       "    </tr>\n",
       "  </tbody>\n",
       "</table>\n",
       "<p>3 rows × 22 columns</p>\n",
       "</div>"
      ],
      "text/plain": [
       "           id       date     price  bedrooms  bathrooms  sqft_living  \\\n",
       "0  7129300520 2014-10-13 221900.00         3       1.00         1180   \n",
       "1  6414100192 2014-12-09 538000.00         3       2.25         2570   \n",
       "2  5631500400 2015-02-25 180000.00         2       1.00          770   \n",
       "\n",
       "   sqft_lot  floors  waterfront  view  ...  sqft_above  sqft_basement  \\\n",
       "0      5650    1.00           0     0  ...        1180              0   \n",
       "1      7242    2.00           0     0  ...        2170            400   \n",
       "2     10000    1.00           0     0  ...         770              0   \n",
       "\n",
       "   yr_built  yr_renovated  zipcode   lat    long  sqft_living15  sqft_lot15  \\\n",
       "0      1955             0    98178 47.51 -122.26           1340        5650   \n",
       "1      1951          1991    98125 47.72 -122.32           1690        7639   \n",
       "2      1933             0    98028 47.74 -122.23           2720        8062   \n",
       "\n",
       "   house_age  \n",
       "0  new_house  \n",
       "1  new_house  \n",
       "2  new_house  \n",
       "\n",
       "[3 rows x 22 columns]"
      ]
     },
     "execution_count": 4,
     "metadata": {},
     "output_type": "execute_result"
    }
   ],
   "source": [
    "# 1. Criar uma coluna nova, preenchida com NA\n",
    "# 2. Substituir o valor NA, conforma a condicional\n",
    "data['house_age'] = 'NA'\n",
    "data.loc[data['date'] > '2014-01-01', 'house_age'] = 'new_house'\n",
    "data.loc[data['date'] < '2014-01-01', 'house_age'] = 'old_house'\n",
    "data.head(3)"
   ]
  },
  {
   "cell_type": "markdown",
   "id": "d9621ec8",
   "metadata": {},
   "source": [
    "# 2 - Criando uma nova coluna chamada: “dormitory_type”\n",
    "- Se o valor da coluna “bedrooms” for igual à 1 => ‘studio’\n",
    "- Se o valor da coluna “bedrooms” for igual a 2 => ‘apartament’\n",
    "- Se o valor da coluna “bedrooms” for maior que 2 => ‘house’"
   ]
  },
  {
   "cell_type": "code",
   "execution_count": 5,
   "id": "74b8ca6d",
   "metadata": {},
   "outputs": [
    {
     "data": {
      "text/html": [
       "<div>\n",
       "<style scoped>\n",
       "    .dataframe tbody tr th:only-of-type {\n",
       "        vertical-align: middle;\n",
       "    }\n",
       "\n",
       "    .dataframe tbody tr th {\n",
       "        vertical-align: top;\n",
       "    }\n",
       "\n",
       "    .dataframe thead th {\n",
       "        text-align: right;\n",
       "    }\n",
       "</style>\n",
       "<table border=\"1\" class=\"dataframe\">\n",
       "  <thead>\n",
       "    <tr style=\"text-align: right;\">\n",
       "      <th></th>\n",
       "      <th>id</th>\n",
       "      <th>date</th>\n",
       "      <th>price</th>\n",
       "      <th>bedrooms</th>\n",
       "      <th>bathrooms</th>\n",
       "      <th>sqft_living</th>\n",
       "      <th>sqft_lot</th>\n",
       "      <th>floors</th>\n",
       "      <th>waterfront</th>\n",
       "      <th>view</th>\n",
       "      <th>...</th>\n",
       "      <th>sqft_basement</th>\n",
       "      <th>yr_built</th>\n",
       "      <th>yr_renovated</th>\n",
       "      <th>zipcode</th>\n",
       "      <th>lat</th>\n",
       "      <th>long</th>\n",
       "      <th>sqft_living15</th>\n",
       "      <th>sqft_lot15</th>\n",
       "      <th>house_age</th>\n",
       "      <th>dormitory_type</th>\n",
       "    </tr>\n",
       "  </thead>\n",
       "  <tbody>\n",
       "    <tr>\n",
       "      <th>0</th>\n",
       "      <td>7129300520</td>\n",
       "      <td>2014-10-13</td>\n",
       "      <td>221900.00</td>\n",
       "      <td>3</td>\n",
       "      <td>1.00</td>\n",
       "      <td>1180</td>\n",
       "      <td>5650</td>\n",
       "      <td>1.00</td>\n",
       "      <td>0</td>\n",
       "      <td>0</td>\n",
       "      <td>...</td>\n",
       "      <td>0</td>\n",
       "      <td>1955</td>\n",
       "      <td>0</td>\n",
       "      <td>98178</td>\n",
       "      <td>47.51</td>\n",
       "      <td>-122.26</td>\n",
       "      <td>1340</td>\n",
       "      <td>5650</td>\n",
       "      <td>new_house</td>\n",
       "      <td>house</td>\n",
       "    </tr>\n",
       "    <tr>\n",
       "      <th>1</th>\n",
       "      <td>6414100192</td>\n",
       "      <td>2014-12-09</td>\n",
       "      <td>538000.00</td>\n",
       "      <td>3</td>\n",
       "      <td>2.25</td>\n",
       "      <td>2570</td>\n",
       "      <td>7242</td>\n",
       "      <td>2.00</td>\n",
       "      <td>0</td>\n",
       "      <td>0</td>\n",
       "      <td>...</td>\n",
       "      <td>400</td>\n",
       "      <td>1951</td>\n",
       "      <td>1991</td>\n",
       "      <td>98125</td>\n",
       "      <td>47.72</td>\n",
       "      <td>-122.32</td>\n",
       "      <td>1690</td>\n",
       "      <td>7639</td>\n",
       "      <td>new_house</td>\n",
       "      <td>house</td>\n",
       "    </tr>\n",
       "    <tr>\n",
       "      <th>2</th>\n",
       "      <td>5631500400</td>\n",
       "      <td>2015-02-25</td>\n",
       "      <td>180000.00</td>\n",
       "      <td>2</td>\n",
       "      <td>1.00</td>\n",
       "      <td>770</td>\n",
       "      <td>10000</td>\n",
       "      <td>1.00</td>\n",
       "      <td>0</td>\n",
       "      <td>0</td>\n",
       "      <td>...</td>\n",
       "      <td>0</td>\n",
       "      <td>1933</td>\n",
       "      <td>0</td>\n",
       "      <td>98028</td>\n",
       "      <td>47.74</td>\n",
       "      <td>-122.23</td>\n",
       "      <td>2720</td>\n",
       "      <td>8062</td>\n",
       "      <td>new_house</td>\n",
       "      <td>apartment</td>\n",
       "    </tr>\n",
       "  </tbody>\n",
       "</table>\n",
       "<p>3 rows × 23 columns</p>\n",
       "</div>"
      ],
      "text/plain": [
       "           id       date     price  bedrooms  bathrooms  sqft_living  \\\n",
       "0  7129300520 2014-10-13 221900.00         3       1.00         1180   \n",
       "1  6414100192 2014-12-09 538000.00         3       2.25         2570   \n",
       "2  5631500400 2015-02-25 180000.00         2       1.00          770   \n",
       "\n",
       "   sqft_lot  floors  waterfront  view  ...  sqft_basement  yr_built  \\\n",
       "0      5650    1.00           0     0  ...              0      1955   \n",
       "1      7242    2.00           0     0  ...            400      1951   \n",
       "2     10000    1.00           0     0  ...              0      1933   \n",
       "\n",
       "   yr_renovated  zipcode   lat    long  sqft_living15  sqft_lot15  house_age  \\\n",
       "0             0    98178 47.51 -122.26           1340        5650  new_house   \n",
       "1          1991    98125 47.72 -122.32           1690        7639  new_house   \n",
       "2             0    98028 47.74 -122.23           2720        8062  new_house   \n",
       "\n",
       "   dormitory_type  \n",
       "0           house  \n",
       "1           house  \n",
       "2       apartment  \n",
       "\n",
       "[3 rows x 23 columns]"
      ]
     },
     "execution_count": 5,
     "metadata": {},
     "output_type": "execute_result"
    }
   ],
   "source": [
    "# 1. Criar uma coluna nova, preenchida com NA\n",
    "# 2. Percorrer todas as linhas do conjunto de dados. Para cada linha, comparar a coluna \"bedrooms\"\n",
    "# 3. De acordo com a comparação, substituir o NA pelo dado valor\n",
    "\n",
    "data['dormitory_type'] = 'NA'\n",
    "for i in range(len(data)):\n",
    "    if data.loc[i, 'bedrooms'] == 1:\n",
    "        data.loc[i, 'dormitory_type'] = 'studio'\n",
    "    elif data.loc[i, 'bedrooms'] == 2:\n",
    "        data.loc[i, 'dormitory_type'] = 'apartment'\n",
    "    elif data.loc[i, 'bedrooms'] > 2:\n",
    "        data.loc[i, 'dormitory_type'] = 'house'\n",
    "data.head(3)"
   ]
  },
  {
   "cell_type": "markdown",
   "id": "24575cdb",
   "metadata": {},
   "source": [
    "# 3 - Criando uma nova coluna chamada: “condition_type”\n",
    "- Se o valor da coluna “condition” for menor ou igual à 2 => ‘bad’\n",
    "- Se o valor da coluna “condition” for igual à 3 ou 4 => ‘regular’\n",
    "- Se o valor da coluna “condition” for igual à 5 => ‘good’\n"
   ]
  },
  {
   "cell_type": "code",
   "execution_count": 6,
   "id": "c87a1a2b",
   "metadata": {},
   "outputs": [
    {
     "data": {
      "text/html": [
       "<div>\n",
       "<style scoped>\n",
       "    .dataframe tbody tr th:only-of-type {\n",
       "        vertical-align: middle;\n",
       "    }\n",
       "\n",
       "    .dataframe tbody tr th {\n",
       "        vertical-align: top;\n",
       "    }\n",
       "\n",
       "    .dataframe thead th {\n",
       "        text-align: right;\n",
       "    }\n",
       "</style>\n",
       "<table border=\"1\" class=\"dataframe\">\n",
       "  <thead>\n",
       "    <tr style=\"text-align: right;\">\n",
       "      <th></th>\n",
       "      <th>id</th>\n",
       "      <th>date</th>\n",
       "      <th>price</th>\n",
       "      <th>bedrooms</th>\n",
       "      <th>bathrooms</th>\n",
       "      <th>sqft_living</th>\n",
       "      <th>sqft_lot</th>\n",
       "      <th>floors</th>\n",
       "      <th>waterfront</th>\n",
       "      <th>view</th>\n",
       "      <th>...</th>\n",
       "      <th>yr_built</th>\n",
       "      <th>yr_renovated</th>\n",
       "      <th>zipcode</th>\n",
       "      <th>lat</th>\n",
       "      <th>long</th>\n",
       "      <th>sqft_living15</th>\n",
       "      <th>sqft_lot15</th>\n",
       "      <th>house_age</th>\n",
       "      <th>dormitory_type</th>\n",
       "      <th>conditional_type</th>\n",
       "    </tr>\n",
       "  </thead>\n",
       "  <tbody>\n",
       "    <tr>\n",
       "      <th>0</th>\n",
       "      <td>7129300520</td>\n",
       "      <td>2014-10-13</td>\n",
       "      <td>221900.00</td>\n",
       "      <td>3</td>\n",
       "      <td>1.00</td>\n",
       "      <td>1180</td>\n",
       "      <td>5650</td>\n",
       "      <td>1.00</td>\n",
       "      <td>0</td>\n",
       "      <td>0</td>\n",
       "      <td>...</td>\n",
       "      <td>1955</td>\n",
       "      <td>0</td>\n",
       "      <td>98178</td>\n",
       "      <td>47.51</td>\n",
       "      <td>-122.26</td>\n",
       "      <td>1340</td>\n",
       "      <td>5650</td>\n",
       "      <td>new_house</td>\n",
       "      <td>house</td>\n",
       "      <td>regular</td>\n",
       "    </tr>\n",
       "    <tr>\n",
       "      <th>1</th>\n",
       "      <td>6414100192</td>\n",
       "      <td>2014-12-09</td>\n",
       "      <td>538000.00</td>\n",
       "      <td>3</td>\n",
       "      <td>2.25</td>\n",
       "      <td>2570</td>\n",
       "      <td>7242</td>\n",
       "      <td>2.00</td>\n",
       "      <td>0</td>\n",
       "      <td>0</td>\n",
       "      <td>...</td>\n",
       "      <td>1951</td>\n",
       "      <td>1991</td>\n",
       "      <td>98125</td>\n",
       "      <td>47.72</td>\n",
       "      <td>-122.32</td>\n",
       "      <td>1690</td>\n",
       "      <td>7639</td>\n",
       "      <td>new_house</td>\n",
       "      <td>house</td>\n",
       "      <td>regular</td>\n",
       "    </tr>\n",
       "    <tr>\n",
       "      <th>2</th>\n",
       "      <td>5631500400</td>\n",
       "      <td>2015-02-25</td>\n",
       "      <td>180000.00</td>\n",
       "      <td>2</td>\n",
       "      <td>1.00</td>\n",
       "      <td>770</td>\n",
       "      <td>10000</td>\n",
       "      <td>1.00</td>\n",
       "      <td>0</td>\n",
       "      <td>0</td>\n",
       "      <td>...</td>\n",
       "      <td>1933</td>\n",
       "      <td>0</td>\n",
       "      <td>98028</td>\n",
       "      <td>47.74</td>\n",
       "      <td>-122.23</td>\n",
       "      <td>2720</td>\n",
       "      <td>8062</td>\n",
       "      <td>new_house</td>\n",
       "      <td>apartment</td>\n",
       "      <td>regular</td>\n",
       "    </tr>\n",
       "  </tbody>\n",
       "</table>\n",
       "<p>3 rows × 24 columns</p>\n",
       "</div>"
      ],
      "text/plain": [
       "           id       date     price  bedrooms  bathrooms  sqft_living  \\\n",
       "0  7129300520 2014-10-13 221900.00         3       1.00         1180   \n",
       "1  6414100192 2014-12-09 538000.00         3       2.25         2570   \n",
       "2  5631500400 2015-02-25 180000.00         2       1.00          770   \n",
       "\n",
       "   sqft_lot  floors  waterfront  view  ...  yr_built  yr_renovated  zipcode  \\\n",
       "0      5650    1.00           0     0  ...      1955             0    98178   \n",
       "1      7242    2.00           0     0  ...      1951          1991    98125   \n",
       "2     10000    1.00           0     0  ...      1933             0    98028   \n",
       "\n",
       "    lat    long  sqft_living15  sqft_lot15  house_age  dormitory_type  \\\n",
       "0 47.51 -122.26           1340        5650  new_house           house   \n",
       "1 47.72 -122.32           1690        7639  new_house           house   \n",
       "2 47.74 -122.23           2720        8062  new_house       apartment   \n",
       "\n",
       "   conditional_type  \n",
       "0           regular  \n",
       "1           regular  \n",
       "2           regular  \n",
       "\n",
       "[3 rows x 24 columns]"
      ]
     },
     "execution_count": 6,
     "metadata": {},
     "output_type": "execute_result"
    }
   ],
   "source": [
    "# 1. Usar a função apply junto com a lambda para ter acesso a cada linha.\n",
    "# 2. Em cada linha, comparar a coluna \"condition\" com a condição dada.\n",
    "# 3. Aplicar a condição\n",
    "\n",
    "data['condition'] = data['condition'].astype(int)\n",
    "data['conditional_type'] = data['condition'].apply(lambda x: 'bad' if x <= 2 else 'regular' if (x == 3) | (x == 4) else 'good')\n",
    "data.head(3)"
   ]
  },
  {
   "cell_type": "markdown",
   "id": "4ddf5092",
   "metadata": {},
   "source": [
    "# 4 - Modifique o TIPO a Coluna “condition” para STRING\n"
   ]
  },
  {
   "cell_type": "code",
   "execution_count": 8,
   "id": "e20fea79",
   "metadata": {},
   "outputs": [
    {
     "data": {
      "text/plain": [
       "id            int64\n",
       "condition    object\n",
       "dtype: object"
      ]
     },
     "execution_count": 8,
     "metadata": {},
     "output_type": "execute_result"
    }
   ],
   "source": [
    "#Plotando o tipo de variavél\n",
    "data[['id', 'condition']].dtypes"
   ]
  },
  {
   "cell_type": "code",
   "execution_count": 9,
   "id": "bf39e73f",
   "metadata": {},
   "outputs": [
    {
     "data": {
      "text/plain": [
       "id            int64\n",
       "condition    object\n",
       "dtype: object"
      ]
     },
     "execution_count": 9,
     "metadata": {},
     "output_type": "execute_result"
    }
   ],
   "source": [
    "#Alterando o tipo da variavél\n",
    "data['condition'] = data['condition'].astype(str)\n",
    "# Plotando o novo tipo da variavél\n",
    "data[['id', 'condition']].dtypes"
   ]
  },
  {
   "cell_type": "markdown",
   "id": "44d0eb87",
   "metadata": {},
   "source": [
    " # 5 - Delete as colunas: “sqft_living15” e “sqft_lot15”"
   ]
  },
  {
   "cell_type": "code",
   "execution_count": 10,
   "id": "c56b2b10",
   "metadata": {},
   "outputs": [],
   "source": [
    "# deletar as colunas\n",
    "data = data.drop(['sqft_living15', 'sqft_lot15'], axis=1)"
   ]
  },
  {
   "cell_type": "markdown",
   "id": "3d34281c",
   "metadata": {},
   "source": [
    "# 6 - Modifique o TIPO a Coluna “yr_build” para DATE"
   ]
  },
  {
   "cell_type": "code",
   "execution_count": 21,
   "id": "638380c4",
   "metadata": {},
   "outputs": [
    {
     "data": {
      "text/plain": [
       "id                           int64\n",
       "date                datetime64[ns]\n",
       "price                      float64\n",
       "bedrooms                     int64\n",
       "bathrooms                  float64\n",
       "sqft_living                  int64\n",
       "sqft_lot                     int64\n",
       "floors                     float64\n",
       "waterfront                   int64\n",
       "view                         int64\n",
       "condition                   object\n",
       "grade                        int64\n",
       "sqft_above                   int64\n",
       "sqft_basement                int64\n",
       "yr_built                     int64\n",
       "yr_renovated        datetime64[ns]\n",
       "zipcode                      int64\n",
       "lat                        float64\n",
       "long                       float64\n",
       "house_age                   object\n",
       "dormitory_type              object\n",
       "conditional_type            object\n",
       "dtype: object"
      ]
     },
     "execution_count": 21,
     "metadata": {},
     "output_type": "execute_result"
    }
   ],
   "source": [
    "data['yr_built'] = pd.to_datetime(data['yr_built'], format='%Y').dt.year\n",
    "# usando a função \".dt.year\" para buscar apenas o ano de construção.\n",
    "data.head(10).dtypes"
   ]
  },
  {
   "cell_type": "markdown",
   "id": "dce0826e",
   "metadata": {},
   "source": [
    "# 7 - Modifique o TIPO a Coluna “yr_renovated” para DATE"
   ]
  },
  {
   "cell_type": "code",
   "execution_count": 12,
   "id": "1f83d888",
   "metadata": {},
   "outputs": [
    {
     "data": {
      "text/plain": [
       "yr_built        int64\n",
       "yr_renovated    int64\n",
       "dtype: object"
      ]
     },
     "execution_count": 12,
     "metadata": {},
     "output_type": "execute_result"
    }
   ],
   "source": [
    "data[['yr_built','yr_renovated']].dtypes"
   ]
  },
  {
   "cell_type": "code",
   "execution_count": 11,
   "id": "e3532dbd",
   "metadata": {},
   "outputs": [
    {
     "data": {
      "text/html": [
       "<div>\n",
       "<style scoped>\n",
       "    .dataframe tbody tr th:only-of-type {\n",
       "        vertical-align: middle;\n",
       "    }\n",
       "\n",
       "    .dataframe tbody tr th {\n",
       "        vertical-align: top;\n",
       "    }\n",
       "\n",
       "    .dataframe thead th {\n",
       "        text-align: right;\n",
       "    }\n",
       "</style>\n",
       "<table border=\"1\" class=\"dataframe\">\n",
       "  <thead>\n",
       "    <tr style=\"text-align: right;\">\n",
       "      <th></th>\n",
       "      <th>id</th>\n",
       "      <th>date</th>\n",
       "      <th>price</th>\n",
       "      <th>bedrooms</th>\n",
       "      <th>bathrooms</th>\n",
       "      <th>sqft_living</th>\n",
       "      <th>sqft_lot</th>\n",
       "      <th>floors</th>\n",
       "      <th>waterfront</th>\n",
       "      <th>view</th>\n",
       "      <th>...</th>\n",
       "      <th>sqft_above</th>\n",
       "      <th>sqft_basement</th>\n",
       "      <th>yr_built</th>\n",
       "      <th>yr_renovated</th>\n",
       "      <th>zipcode</th>\n",
       "      <th>lat</th>\n",
       "      <th>long</th>\n",
       "      <th>house_age</th>\n",
       "      <th>dormitory_type</th>\n",
       "      <th>conditional_type</th>\n",
       "    </tr>\n",
       "  </thead>\n",
       "  <tbody>\n",
       "    <tr>\n",
       "      <th>0</th>\n",
       "      <td>7129300520</td>\n",
       "      <td>2014-10-13</td>\n",
       "      <td>221900.00</td>\n",
       "      <td>3</td>\n",
       "      <td>1.00</td>\n",
       "      <td>1180</td>\n",
       "      <td>5650</td>\n",
       "      <td>1.00</td>\n",
       "      <td>0</td>\n",
       "      <td>0</td>\n",
       "      <td>...</td>\n",
       "      <td>1180</td>\n",
       "      <td>0</td>\n",
       "      <td>1955</td>\n",
       "      <td>0</td>\n",
       "      <td>98178</td>\n",
       "      <td>47.51</td>\n",
       "      <td>-122.26</td>\n",
       "      <td>new_house</td>\n",
       "      <td>house</td>\n",
       "      <td>regular</td>\n",
       "    </tr>\n",
       "    <tr>\n",
       "      <th>1</th>\n",
       "      <td>6414100192</td>\n",
       "      <td>2014-12-09</td>\n",
       "      <td>538000.00</td>\n",
       "      <td>3</td>\n",
       "      <td>2.25</td>\n",
       "      <td>2570</td>\n",
       "      <td>7242</td>\n",
       "      <td>2.00</td>\n",
       "      <td>0</td>\n",
       "      <td>0</td>\n",
       "      <td>...</td>\n",
       "      <td>2170</td>\n",
       "      <td>400</td>\n",
       "      <td>1951</td>\n",
       "      <td>1991</td>\n",
       "      <td>98125</td>\n",
       "      <td>47.72</td>\n",
       "      <td>-122.32</td>\n",
       "      <td>new_house</td>\n",
       "      <td>house</td>\n",
       "      <td>regular</td>\n",
       "    </tr>\n",
       "    <tr>\n",
       "      <th>2</th>\n",
       "      <td>5631500400</td>\n",
       "      <td>2015-02-25</td>\n",
       "      <td>180000.00</td>\n",
       "      <td>2</td>\n",
       "      <td>1.00</td>\n",
       "      <td>770</td>\n",
       "      <td>10000</td>\n",
       "      <td>1.00</td>\n",
       "      <td>0</td>\n",
       "      <td>0</td>\n",
       "      <td>...</td>\n",
       "      <td>770</td>\n",
       "      <td>0</td>\n",
       "      <td>1933</td>\n",
       "      <td>0</td>\n",
       "      <td>98028</td>\n",
       "      <td>47.74</td>\n",
       "      <td>-122.23</td>\n",
       "      <td>new_house</td>\n",
       "      <td>apartment</td>\n",
       "      <td>regular</td>\n",
       "    </tr>\n",
       "    <tr>\n",
       "      <th>3</th>\n",
       "      <td>2487200875</td>\n",
       "      <td>2014-12-09</td>\n",
       "      <td>604000.00</td>\n",
       "      <td>4</td>\n",
       "      <td>3.00</td>\n",
       "      <td>1960</td>\n",
       "      <td>5000</td>\n",
       "      <td>1.00</td>\n",
       "      <td>0</td>\n",
       "      <td>0</td>\n",
       "      <td>...</td>\n",
       "      <td>1050</td>\n",
       "      <td>910</td>\n",
       "      <td>1965</td>\n",
       "      <td>0</td>\n",
       "      <td>98136</td>\n",
       "      <td>47.52</td>\n",
       "      <td>-122.39</td>\n",
       "      <td>new_house</td>\n",
       "      <td>house</td>\n",
       "      <td>good</td>\n",
       "    </tr>\n",
       "    <tr>\n",
       "      <th>4</th>\n",
       "      <td>1954400510</td>\n",
       "      <td>2015-02-18</td>\n",
       "      <td>510000.00</td>\n",
       "      <td>3</td>\n",
       "      <td>2.00</td>\n",
       "      <td>1680</td>\n",
       "      <td>8080</td>\n",
       "      <td>1.00</td>\n",
       "      <td>0</td>\n",
       "      <td>0</td>\n",
       "      <td>...</td>\n",
       "      <td>1680</td>\n",
       "      <td>0</td>\n",
       "      <td>1987</td>\n",
       "      <td>0</td>\n",
       "      <td>98074</td>\n",
       "      <td>47.62</td>\n",
       "      <td>-122.05</td>\n",
       "      <td>new_house</td>\n",
       "      <td>house</td>\n",
       "      <td>regular</td>\n",
       "    </tr>\n",
       "  </tbody>\n",
       "</table>\n",
       "<p>5 rows × 22 columns</p>\n",
       "</div>"
      ],
      "text/plain": [
       "           id       date     price  bedrooms  bathrooms  sqft_living  \\\n",
       "0  7129300520 2014-10-13 221900.00         3       1.00         1180   \n",
       "1  6414100192 2014-12-09 538000.00         3       2.25         2570   \n",
       "2  5631500400 2015-02-25 180000.00         2       1.00          770   \n",
       "3  2487200875 2014-12-09 604000.00         4       3.00         1960   \n",
       "4  1954400510 2015-02-18 510000.00         3       2.00         1680   \n",
       "\n",
       "   sqft_lot  floors  waterfront  view  ... sqft_above  sqft_basement  \\\n",
       "0      5650    1.00           0     0  ...       1180              0   \n",
       "1      7242    2.00           0     0  ...       2170            400   \n",
       "2     10000    1.00           0     0  ...        770              0   \n",
       "3      5000    1.00           0     0  ...       1050            910   \n",
       "4      8080    1.00           0     0  ...       1680              0   \n",
       "\n",
       "   yr_built  yr_renovated  zipcode   lat    long  house_age  dormitory_type  \\\n",
       "0      1955             0    98178 47.51 -122.26  new_house           house   \n",
       "1      1951          1991    98125 47.72 -122.32  new_house           house   \n",
       "2      1933             0    98028 47.74 -122.23  new_house       apartment   \n",
       "3      1965             0    98136 47.52 -122.39  new_house           house   \n",
       "4      1987             0    98074 47.62 -122.05  new_house           house   \n",
       "\n",
       "  conditional_type  \n",
       "0          regular  \n",
       "1          regular  \n",
       "2          regular  \n",
       "3             good  \n",
       "4          regular  \n",
       "\n",
       "[5 rows x 22 columns]"
      ]
     },
     "execution_count": 11,
     "metadata": {},
     "output_type": "execute_result"
    }
   ],
   "source": [
    "data.head()\n"
   ]
  },
  {
   "cell_type": "markdown",
   "id": "5bda2cd0",
   "metadata": {},
   "source": [
    "# 8 - Qual a data mais antiga de construção de um imóvel?"
   ]
  },
  {
   "cell_type": "code",
   "execution_count": 27,
   "id": "932ff369",
   "metadata": {},
   "outputs": [
    {
     "name": "stdout",
     "output_type": "stream",
     "text": [
      "The oldest house is 1900 years old\n"
     ]
    }
   ],
   "source": [
    "# Modifique o TIPO a Coluna “yr_renovated” para DATE\n",
    "data['yr_built'] = pd.to_datetime(data['yr_built'], format='%Y').dt.year\n",
    "min_date_build = data['yr_built'].min()\n",
    "print( f'The oldest house is {min_date_build} years old' )"
   ]
  },
  {
   "cell_type": "markdown",
   "id": "964e3d24",
   "metadata": {},
   "source": [
    "# 9 - Qual a data mais antiga de renovação de um imóvel?"
   ]
  },
  {
   "cell_type": "code",
   "execution_count": 28,
   "id": "7f4d8a62",
   "metadata": {},
   "outputs": [
    {
     "name": "stdout",
     "output_type": "stream",
     "text": [
      "The oldest house is 1970 years old\n"
     ]
    }
   ],
   "source": [
    "data.drop(data[data.yr_renovated==0].index)\n",
    "data['yr_renovated'] = pd.to_datetime(data['yr_renovated'])\n",
    "min_date = data['yr_renovated'].min().year\n",
    "print(f'The oldest house is {min_date} years old')"
   ]
  },
  {
   "cell_type": "markdown",
   "id": "889ff66a",
   "metadata": {},
   "source": [
    "# 10 - Quantos imóveis tem 2 andares?\n",
    "\n",
    " Estrategia:\n",
    "* Filtrar todoso os imóveis com 2 andares\n",
    "* Contar o número de linhas\n"
   ]
  },
  {
   "cell_type": "code",
   "execution_count": 32,
   "id": "29a925d9",
   "metadata": {},
   "outputs": [
    {
     "name": "stdout",
     "output_type": "stream",
     "text": [
      "The number of houses with 2 floors is: 8241\n"
     ]
    }
   ],
   "source": [
    "# Filtrando (two_floors = data[data['floors'] == 2]) e contando o numero de linhas (.shape[0]).\n",
    "two_floors = data[data['floors'] == 2].shape[0]\n",
    "print(f'The number of houses with 2 floors is: {two_floors}')\n"
   ]
  },
  {
   "cell_type": "markdown",
   "id": "c37719e6",
   "metadata": {},
   "source": [
    "# 11 -  Quantos imóveis estão com a condição igual a “regular” ?\n",
    "\n",
    "Estrategia\n",
    "* Filtrar todos os apartamentos com \"conditional_type\" igual a \"regular\"\n",
    "* Contar o número de imóveis sob essa condição"
   ]
  },
  {
   "cell_type": "code",
   "execution_count": 36,
   "id": "3ecc8c33",
   "metadata": {},
   "outputs": [
    {
     "name": "stdout",
     "output_type": "stream",
     "text": [
      "Number of Houses in \"regular\" condition is: 19710\n"
     ]
    }
   ],
   "source": [
    "regular_house = data[data['conditional_type'] == 'regular'].shape[0]\n",
    "print(f'Number of Houses in \"regular\" condition is: {regular_house}')\n"
   ]
  },
  {
   "cell_type": "markdown",
   "id": "d0403c01",
   "metadata": {},
   "source": [
    "# 12 - Quantos imóveis estão com a condição igual a “bad”e possuem “vista para água” ?\n",
    "Estrategia\n",
    "* Filtrar as colunas \"conditional_type\" igual a \"bad\" e \"waterfront\" igual a 1, usando a função \"&\"\n",
    "* Contar o número de linhas"
   ]
  },
  {
   "cell_type": "code",
   "execution_count": 38,
   "id": "c7169f1e",
   "metadata": {},
   "outputs": [
    {
     "name": "stdout",
     "output_type": "stream",
     "text": [
      "Number of Houses with water view and bad condition: 2 houses\n"
     ]
    }
   ],
   "source": [
    "houses_bad_watter = data[(data['conditional_type'] == 'bad') & (data['waterfront'] == 1)].shape[0]\n",
    "print(f'Number of Houses with water view and bad condition: {houses_bad_watter} houses')\n"
   ]
  },
  {
   "cell_type": "markdown",
   "id": "7f288316",
   "metadata": {},
   "source": [
    "# 13 - Quantos imóveis estão com a condição igual a “good” e são “new_house”?\n",
    "\n",
    "Estrategia\n",
    "* Filtrar as colunas \"conditional_type\" igual a \"good\" e \"house_age\" equals to \"new_house\"\n",
    "* Contar o número de linhas\n"
   ]
  },
  {
   "cell_type": "code",
   "execution_count": 42,
   "id": "0d8fdfeb",
   "metadata": {},
   "outputs": [
    {
     "name": "stdout",
     "output_type": "stream",
     "text": [
      "Number of new house with good conditional type is: 1701 houses.\n"
     ]
    }
   ],
   "source": [
    "good_house = data[(data['conditional_type'] == 'good') & (data['house_age'] == 'new_house')].shape[0]\n",
    "print(f'Number of new house with good conditional type is: {good_house} houses.')"
   ]
  },
  {
   "cell_type": "markdown",
   "id": "8980d89d",
   "metadata": {},
   "source": [
    "# 14 - Qual o valor do imóvel mais caro do tipo “studio” ?\n",
    " \n",
    " Estrategia:\n",
    "* Filtrar as colunas \"dormitory_type\" igual a \"studio\"\n",
    "* Encontrar o máximo valor da coluna \"price\"\n"
   ]
  },
  {
   "cell_type": "code",
   "execution_count": 46,
   "id": "ab3ce2e6",
   "metadata": {},
   "outputs": [
    {
     "name": "stdout",
     "output_type": "stream",
     "text": [
      "Most expensive studio house: $1247000.0\n"
     ]
    }
   ],
   "source": [
    "max_studio_price = data[data['dormitory_type'] == 'studio']['price'].max()\n",
    "print(f'Most expensive studio house: ${max_studio_price}')"
   ]
  },
  {
   "cell_type": "markdown",
   "id": "3e8ff2dd",
   "metadata": {},
   "source": [
    "# 15 - Quantos imóveis do tipo “apartment” foram reformados em 2015 ?\n",
    "\n",
    "Estrategia:\n",
    "* Filtrar as colunas \"dormitory_type\" igual a \"apartament\" e \"yr_renovated\" equals to \"2015-01-01\"\n",
    "* Contar o número de linhas\n"
   ]
  },
  {
   "cell_type": "code",
   "execution_count": 50,
   "id": "981e5543",
   "metadata": {},
   "outputs": [
    {
     "name": "stdout",
     "output_type": "stream",
     "text": [
      "Number of reformed house in 2015: 0\n"
     ]
    }
   ],
   "source": [
    "apart_renov = data[(data['dormitory_type'] == 'apartament') & (data['yr_renovated'] == 2015)].shape[0]\n",
    "print(f'Number of reformed house in 2015: {apart_renov}')"
   ]
  },
  {
   "cell_type": "markdown",
   "id": "1da61ed3",
   "metadata": {},
   "source": [
    "# 16 - Qual o maior número de quartos que um imóveis do tipo “house”] possui ?\n",
    "Estrategia:\n",
    "* Filtrar as colunas \"dormitory type\" igual a \"house\"\n",
    "* Encontrar o maior valor da coluna bedrooms"
   ]
  },
  {
   "cell_type": "code",
   "execution_count": 53,
   "id": "b468777c",
   "metadata": {},
   "outputs": [
    {
     "name": "stdout",
     "output_type": "stream",
     "text": [
      "Max number of bedrooms from a house: 33\n"
     ]
    }
   ],
   "source": [
    "house_bed = data[data['dormitory_type'] == 'house']['bedrooms'].max()\n",
    "print(f'Max number of bedrooms from a house: {house_bed}')"
   ]
  },
  {
   "cell_type": "markdown",
   "id": "451340e0",
   "metadata": {},
   "source": [
    "#  17 - Quantos imóveis “new_house” foram reformados no ano de 2014?\n",
    "\n",
    " Estrategia:\n",
    "* Filtrar as colunas \"house_age\" igual a \"new-house\" e \"yr_renovated\" equals to \"2015-01-01\"\n",
    "* Contar o número de linhas"
   ]
  },
  {
   "cell_type": "code",
   "execution_count": 63,
   "id": "342adead",
   "metadata": {},
   "outputs": [
    {
     "name": "stdout",
     "output_type": "stream",
     "text": [
      "Number of reformed house in 2014: 0\n"
     ]
    }
   ],
   "source": [
    "houses = data[(data['house_age'] == 'new_house') &\n",
    "            (data['yr_renovated'] == 2014 )].shape[0]\n",
    "print( \"Number of reformed house in 2014: {}\".format( houses ) )\n"
   ]
  },
  {
   "cell_type": "markdown",
   "id": "32f56be6",
   "metadata": {},
   "source": [
    "#  18. Selecione as colunas: “id”, “date”, “price”, “floors”, “zipcode” pelo método:\n",
    "* Direto pelo nome das colunas\n",
    "* Pelos índices\n",
    "* Pelos índices das linhas e o nome das colunas\n",
    "* Índices Booleanos"
   ]
  },
  {
   "cell_type": "code",
   "execution_count": 65,
   "id": "9f77a80c",
   "metadata": {},
   "outputs": [
    {
     "data": {
      "text/plain": [
       "Index(['id', 'date', 'price', 'bedrooms', 'bathrooms', 'sqft_living',\n",
       "       'sqft_lot', 'floors', 'waterfront', 'view', 'condition', 'grade',\n",
       "       'sqft_above', 'sqft_basement', 'yr_built', 'yr_renovated', 'zipcode',\n",
       "       'lat', 'long', 'house_age', 'dormitory_type', 'conditional_type'],\n",
       "      dtype='object')"
      ]
     },
     "execution_count": 65,
     "metadata": {},
     "output_type": "execute_result"
    }
   ],
   "source": [
    "data.columns"
   ]
  },
  {
   "cell_type": "code",
   "execution_count": 66,
   "id": "4f86d2fe",
   "metadata": {},
   "outputs": [],
   "source": [
    "### 1. Nome das colunas\n",
    "df1 = data[['id', 'date', 'price', 'floors', 'zipcode']]\n",
    "### 2. Índices\n",
    "df2 = data.iloc[:, [0, 1, 2, 7, 16]]\n",
    "### 3. Índices das linhas e nome das colunas\n",
    "df3 = data.loc[:, ['id', 'date', 'price', 'floors', 'zipcode']]"
   ]
  },
  {
   "cell_type": "markdown",
   "id": "dada4306",
   "metadata": {},
   "source": [
    "# 19 - Salve um arquivo .csv com somente as colunas do item 10 ao 17."
   ]
  },
  {
   "cell_type": "code",
   "execution_count": 67,
   "id": "bd95ae85",
   "metadata": {},
   "outputs": [],
   "source": [
    "data[['house_age', 'dormitory_type', 'conditional_type']].to_csv( 'exercicio18.csv' )"
   ]
  }
 ],
 "metadata": {
  "kernelspec": {
   "display_name": "Python 3",
   "language": "python",
   "name": "python3"
  },
  "language_info": {
   "codemirror_mode": {
    "name": "ipython",
    "version": 3
   },
   "file_extension": ".py",
   "mimetype": "text/x-python",
   "name": "python",
   "nbconvert_exporter": "python",
   "pygments_lexer": "ipython3",
   "version": "3.8.8"
  }
 },
 "nbformat": 4,
 "nbformat_minor": 5
}
